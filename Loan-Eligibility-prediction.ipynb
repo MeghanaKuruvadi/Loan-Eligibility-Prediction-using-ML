{
 "cells": [
  {
   "cell_type": "code",
   "execution_count": 1,
   "id": "d698df32",
   "metadata": {
    "_cell_guid": "b1076dfc-b9ad-4769-8c92-a6c4dae69d19",
    "_uuid": "8f2839f25d086af736a60e9eeb907d3b93b6e0e5",
    "execution": {
     "iopub.execute_input": "2021-09-07T11:25:43.532682Z",
     "iopub.status.busy": "2021-09-07T11:25:43.531029Z",
     "iopub.status.idle": "2021-09-07T11:25:44.438629Z",
     "shell.execute_reply": "2021-09-07T11:25:44.437940Z",
     "shell.execute_reply.started": "2021-09-07T11:20:52.164569Z"
    },
    "papermill": {
     "duration": 0.957127,
     "end_time": "2021-09-07T11:25:44.438781",
     "exception": false,
     "start_time": "2021-09-07T11:25:43.481654",
     "status": "completed"
    },
    "tags": []
   },
   "outputs": [],
   "source": [
    "import numpy as np \n",
    "import pandas as pd \n",
    "import matplotlib.pyplot as plt \n",
    "%matplotlib inline\n",
    "import seaborn as sns\n",
    "#Our target variable (Loan_Status) classes were categorical as Y/N. Likewise, the variables 'Gender', Married and Employed were categorical variables with 2 classes. I changed them all to 1-0 and filled missing values with thier mode and mean values."
   ]
  },
  {
   "cell_type": "code",
   "execution_count": 2,
   "id": "bca5289f",
   "metadata": {
    "execution": {
     "iopub.execute_input": "2021-09-07T11:25:44.535135Z",
     "iopub.status.busy": "2021-09-07T11:25:44.534556Z",
     "iopub.status.idle": "2021-09-07T11:25:44.555403Z",
     "shell.execute_reply": "2021-09-07T11:25:44.554906Z",
     "shell.execute_reply.started": "2021-09-07T11:20:52.178861Z"
    },
    "papermill": {
     "duration": 0.070704,
     "end_time": "2021-09-07T11:25:44.555536",
     "exception": false,
     "start_time": "2021-09-07T11:25:44.484832",
     "status": "completed"
    },
    "tags": []
   },
   "outputs": [],
   "source": [
    "df=pd.read_csv('loan-train.csv')"
   ]
  },
  {
   "cell_type": "code",
   "execution_count": 3,
   "id": "b50122a4",
   "metadata": {
    "execution": {
     "iopub.execute_input": "2021-09-07T11:25:44.656576Z",
     "iopub.status.busy": "2021-09-07T11:25:44.655943Z",
     "iopub.status.idle": "2021-09-07T11:25:44.679344Z",
     "shell.execute_reply": "2021-09-07T11:25:44.679809Z",
     "shell.execute_reply.started": "2021-09-07T11:20:52.208025Z"
    },
    "papermill": {
     "duration": 0.078824,
     "end_time": "2021-09-07T11:25:44.679965",
     "exception": false,
     "start_time": "2021-09-07T11:25:44.601141",
     "status": "completed"
    },
    "tags": []
   },
   "outputs": [
    {
     "data": {
      "text/html": [
       "<div>\n",
       "<style scoped>\n",
       "    .dataframe tbody tr th:only-of-type {\n",
       "        vertical-align: middle;\n",
       "    }\n",
       "\n",
       "    .dataframe tbody tr th {\n",
       "        vertical-align: top;\n",
       "    }\n",
       "\n",
       "    .dataframe thead th {\n",
       "        text-align: right;\n",
       "    }\n",
       "</style>\n",
       "<table border=\"1\" class=\"dataframe\">\n",
       "  <thead>\n",
       "    <tr style=\"text-align: right;\">\n",
       "      <th></th>\n",
       "      <th>Loan_ID</th>\n",
       "      <th>Gender</th>\n",
       "      <th>Married</th>\n",
       "      <th>Dependents</th>\n",
       "      <th>Education</th>\n",
       "      <th>Self_Employed</th>\n",
       "      <th>ApplicantIncome</th>\n",
       "      <th>CoapplicantIncome</th>\n",
       "      <th>LoanAmount</th>\n",
       "      <th>Loan_Amount_Term</th>\n",
       "      <th>Credit_History</th>\n",
       "      <th>Property_Area</th>\n",
       "      <th>Loan_Status</th>\n",
       "    </tr>\n",
       "  </thead>\n",
       "  <tbody>\n",
       "    <tr>\n",
       "      <th>0</th>\n",
       "      <td>LP001002</td>\n",
       "      <td>Male</td>\n",
       "      <td>No</td>\n",
       "      <td>0</td>\n",
       "      <td>Graduate</td>\n",
       "      <td>No</td>\n",
       "      <td>5849</td>\n",
       "      <td>0.0</td>\n",
       "      <td>NaN</td>\n",
       "      <td>360.0</td>\n",
       "      <td>1.0</td>\n",
       "      <td>Urban</td>\n",
       "      <td>Y</td>\n",
       "    </tr>\n",
       "    <tr>\n",
       "      <th>1</th>\n",
       "      <td>LP001003</td>\n",
       "      <td>Male</td>\n",
       "      <td>Yes</td>\n",
       "      <td>1</td>\n",
       "      <td>Graduate</td>\n",
       "      <td>No</td>\n",
       "      <td>4583</td>\n",
       "      <td>1508.0</td>\n",
       "      <td>128.0</td>\n",
       "      <td>360.0</td>\n",
       "      <td>1.0</td>\n",
       "      <td>Rural</td>\n",
       "      <td>N</td>\n",
       "    </tr>\n",
       "    <tr>\n",
       "      <th>2</th>\n",
       "      <td>LP001005</td>\n",
       "      <td>Male</td>\n",
       "      <td>Yes</td>\n",
       "      <td>0</td>\n",
       "      <td>Graduate</td>\n",
       "      <td>Yes</td>\n",
       "      <td>3000</td>\n",
       "      <td>0.0</td>\n",
       "      <td>66.0</td>\n",
       "      <td>360.0</td>\n",
       "      <td>1.0</td>\n",
       "      <td>Urban</td>\n",
       "      <td>Y</td>\n",
       "    </tr>\n",
       "    <tr>\n",
       "      <th>3</th>\n",
       "      <td>LP001006</td>\n",
       "      <td>Male</td>\n",
       "      <td>Yes</td>\n",
       "      <td>0</td>\n",
       "      <td>Not Graduate</td>\n",
       "      <td>No</td>\n",
       "      <td>2583</td>\n",
       "      <td>2358.0</td>\n",
       "      <td>120.0</td>\n",
       "      <td>360.0</td>\n",
       "      <td>1.0</td>\n",
       "      <td>Urban</td>\n",
       "      <td>Y</td>\n",
       "    </tr>\n",
       "    <tr>\n",
       "      <th>4</th>\n",
       "      <td>LP001008</td>\n",
       "      <td>Male</td>\n",
       "      <td>No</td>\n",
       "      <td>0</td>\n",
       "      <td>Graduate</td>\n",
       "      <td>No</td>\n",
       "      <td>6000</td>\n",
       "      <td>0.0</td>\n",
       "      <td>141.0</td>\n",
       "      <td>360.0</td>\n",
       "      <td>1.0</td>\n",
       "      <td>Urban</td>\n",
       "      <td>Y</td>\n",
       "    </tr>\n",
       "  </tbody>\n",
       "</table>\n",
       "</div>"
      ],
      "text/plain": [
       "    Loan_ID Gender Married Dependents     Education Self_Employed  \\\n",
       "0  LP001002   Male      No          0      Graduate            No   \n",
       "1  LP001003   Male     Yes          1      Graduate            No   \n",
       "2  LP001005   Male     Yes          0      Graduate           Yes   \n",
       "3  LP001006   Male     Yes          0  Not Graduate            No   \n",
       "4  LP001008   Male      No          0      Graduate            No   \n",
       "\n",
       "   ApplicantIncome  CoapplicantIncome  LoanAmount  Loan_Amount_Term  \\\n",
       "0             5849                0.0         NaN             360.0   \n",
       "1             4583             1508.0       128.0             360.0   \n",
       "2             3000                0.0        66.0             360.0   \n",
       "3             2583             2358.0       120.0             360.0   \n",
       "4             6000                0.0       141.0             360.0   \n",
       "\n",
       "   Credit_History Property_Area Loan_Status  \n",
       "0             1.0         Urban           Y  \n",
       "1             1.0         Rural           N  \n",
       "2             1.0         Urban           Y  \n",
       "3             1.0         Urban           Y  \n",
       "4             1.0         Urban           Y  "
      ]
     },
     "execution_count": 3,
     "metadata": {},
     "output_type": "execute_result"
    }
   ],
   "source": [
    "df.head()"
   ]
  },
  {
   "cell_type": "code",
   "execution_count": 4,
   "id": "d0dee492",
   "metadata": {
    "execution": {
     "iopub.execute_input": "2021-09-07T11:25:44.964706Z",
     "iopub.status.busy": "2021-09-07T11:25:44.964128Z",
     "iopub.status.idle": "2021-09-07T11:25:45.120691Z",
     "shell.execute_reply": "2021-09-07T11:25:45.121266Z",
     "shell.execute_reply.started": "2021-09-07T11:20:52.236448Z"
    },
    "papermill": {
     "duration": 0.209831,
     "end_time": "2021-09-07T11:25:45.121428",
     "exception": false,
     "start_time": "2021-09-07T11:25:44.911597",
     "status": "completed"
    },
    "tags": []
   },
   "outputs": [
    {
     "name": "stdout",
     "output_type": "stream",
     "text": [
      "Rejected Loan is 31 % of total\n",
      "Accepted loan  is 69 % of total\n"
     ]
    },
    {
     "ename": "TypeError",
     "evalue": "barplot() takes from 0 to 1 positional arguments but 2 were given",
     "output_type": "error",
     "traceback": [
      "\u001b[1;31m---------------------------------------------------------------------------\u001b[0m",
      "\u001b[1;31mTypeError\u001b[0m                                 Traceback (most recent call last)",
      "Cell \u001b[1;32mIn[4], line 4\u001b[0m\n\u001b[0;32m      2\u001b[0m \u001b[38;5;28mprint\u001b[39m(\u001b[38;5;124m'\u001b[39m\u001b[38;5;124mAccepted loan  is \u001b[39m\u001b[38;5;132;01m{}\u001b[39;00m\u001b[38;5;124m \u001b[39m\u001b[38;5;132;01m% o\u001b[39;00m\u001b[38;5;124mf total\u001b[39m\u001b[38;5;124m'\u001b[39m\u001b[38;5;241m.\u001b[39mformat(\u001b[38;5;28mround\u001b[39m(df[\u001b[38;5;124m'\u001b[39m\u001b[38;5;124mLoan_Status\u001b[39m\u001b[38;5;124m'\u001b[39m]\u001b[38;5;241m.\u001b[39mvalue_counts()[\u001b[38;5;124m'\u001b[39m\u001b[38;5;124mY\u001b[39m\u001b[38;5;124m'\u001b[39m]\u001b[38;5;241m/\u001b[39m\u001b[38;5;28mlen\u001b[39m(df[\u001b[38;5;124m'\u001b[39m\u001b[38;5;124mLoan_Status\u001b[39m\u001b[38;5;124m'\u001b[39m])\u001b[38;5;241m*\u001b[39m\u001b[38;5;241m100\u001b[39m)))\n\u001b[0;32m      3\u001b[0m x\u001b[38;5;241m=\u001b[39mdf\u001b[38;5;241m.\u001b[39mLoan_Status\u001b[38;5;241m.\u001b[39mvalue_counts()\n\u001b[1;32m----> 4\u001b[0m sns\u001b[38;5;241m.\u001b[39mbarplot(x\u001b[38;5;241m.\u001b[39mindex,x)\n\u001b[0;32m      5\u001b[0m plt\u001b[38;5;241m.\u001b[39mgca()\u001b[38;5;241m.\u001b[39mset_ylabel(\u001b[38;5;124m'\u001b[39m\u001b[38;5;124msamples\u001b[39m\u001b[38;5;124m'\u001b[39m)\n",
      "\u001b[1;31mTypeError\u001b[0m: barplot() takes from 0 to 1 positional arguments but 2 were given"
     ]
    }
   ],
   "source": [
    "print('Rejected Loan is {} % of total'.format(round(df['Loan_Status'].value_counts()['N']/len(df['Loan_Status'])*100)))\n",
    "print('Accepted loan  is {} % of total'.format(round(df['Loan_Status'].value_counts()['Y']/len(df['Loan_Status'])*100)))\n",
    "x=df.Loan_Status.value_counts()\n",
    "sns.barplot(x.index,x)\n",
    "plt.gca().set_ylabel('samples')"
   ]
  },
  {
   "cell_type": "code",
   "execution_count": 5,
   "id": "1b9ced23",
   "metadata": {
    "execution": {
     "iopub.execute_input": "2021-09-07T11:25:45.409928Z",
     "iopub.status.busy": "2021-09-07T11:25:45.409361Z",
     "iopub.status.idle": "2021-09-07T11:25:45.412542Z",
     "shell.execute_reply": "2021-09-07T11:25:45.412963Z",
     "shell.execute_reply.started": "2021-09-07T11:20:52.388078Z"
    },
    "papermill": {
     "duration": 0.05366,
     "end_time": "2021-09-07T11:25:45.413128",
     "exception": false,
     "start_time": "2021-09-07T11:25:45.359468",
     "status": "completed"
    },
    "tags": []
   },
   "outputs": [],
   "source": [
    "categorical_columns = ['Gender', 'Married', 'Dependents', 'Education', 'Self_Employed', 'Property_Area','Credit_History','Loan_Amount_Term']\n",
    "numerical_columns = ['ApplicantIncome', 'CoapplicantIncome', 'LoanAmount']\n"
   ]
  },
  {
   "cell_type": "code",
   "execution_count": 6,
   "id": "b871cc54",
   "metadata": {
    "execution": {
     "iopub.execute_input": "2021-09-07T11:25:45.512972Z",
     "iopub.status.busy": "2021-09-07T11:25:45.512409Z",
     "iopub.status.idle": "2021-09-07T11:25:46.673296Z",
     "shell.execute_reply": "2021-09-07T11:25:46.672813Z",
     "shell.execute_reply.started": "2021-09-07T11:20:52.393917Z"
    },
    "papermill": {
     "duration": 1.212579,
     "end_time": "2021-09-07T11:25:46.673433",
     "exception": false,
     "start_time": "2021-09-07T11:25:45.460854",
     "status": "completed"
    },
    "tags": []
   },
   "outputs": [
    {
     "data": {
      "image/png": "[encoded data removed]",
      "text/plain": [
       "<Figure size 1200x1500 with 8 Axes>"
      ]
     },
     "metadata": {},
     "output_type": "display_data"
    }
   ],
   "source": [
    "fig,axes = plt.subplots(4,2,figsize=(12,15))\n",
    "for idx,cat_col in enumerate(categorical_columns):\n",
    "    row,col = idx//2,idx%2\n",
    "    sns.countplot(x=cat_col,data=df,hue='Loan_Status',ax=axes[row,col])\n",
    "\n",
    "\n",
    "plt.subplots_adjust(hspace=1)"
   ]
  },
  {
   "cell_type": "code",
   "execution_count": 7,
   "id": "cc17820d",
   "metadata": {
    "execution": {
     "iopub.execute_input": "2021-09-07T11:25:46.775898Z",
     "iopub.status.busy": "2021-09-07T11:25:46.775305Z",
     "iopub.status.idle": "2021-09-07T11:25:46.779301Z",
     "shell.execute_reply": "2021-09-07T11:25:46.779690Z",
     "shell.execute_reply.started": "2021-09-07T11:20:53.654191Z"
    },
    "papermill": {
     "duration": 0.05763,
     "end_time": "2021-09-07T11:25:46.779851",
     "exception": false,
     "start_time": "2021-09-07T11:25:46.722221",
     "status": "completed"
    },
    "tags": []
   },
   "outputs": [
    {
     "data": {
      "text/plain": [
       "(614, 13)"
      ]
     },
     "execution_count": 7,
     "metadata": {},
     "output_type": "execute_result"
    }
   ],
   "source": [
    "df.shape"
   ]
  },
  {
   "cell_type": "code",
   "execution_count": 8,
   "id": "8d12c295",
   "metadata": {
    "execution": {
     "iopub.execute_input": "2021-09-07T11:25:46.881631Z",
     "iopub.status.busy": "2021-09-07T11:25:46.880772Z",
     "iopub.status.idle": "2021-09-07T11:25:46.893717Z",
     "shell.execute_reply": "2021-09-07T11:25:46.894178Z",
     "shell.execute_reply.started": "2021-09-07T11:20:53.661821Z"
    },
    "papermill": {
     "duration": 0.065125,
     "end_time": "2021-09-07T11:25:46.894338",
     "exception": false,
     "start_time": "2021-09-07T11:25:46.829213",
     "status": "completed"
    },
    "tags": []
   },
   "outputs": [
    {
     "name": "stdout",
     "output_type": "stream",
     "text": [
      "<class 'pandas.core.frame.DataFrame'>\n",
      "RangeIndex: 614 entries, 0 to 613\n",
      "Data columns (total 13 columns):\n",
      " #   Column             Non-Null Count  Dtype  \n",
      "---  ------             --------------  -----  \n",
      " 0   Loan_ID            614 non-null    object \n",
      " 1   Gender             601 non-null    object \n",
      " 2   Married            611 non-null    object \n",
      " 3   Dependents         599 non-null    object \n",
      " 4   Education          614 non-null    object \n",
      " 5   Self_Employed      582 non-null    object \n",
      " 6   ApplicantIncome    614 non-null    int64  \n",
      " 7   CoapplicantIncome  614 non-null    float64\n",
      " 8   LoanAmount         592 non-null    float64\n",
      " 9   Loan_Amount_Term   600 non-null    float64\n",
      " 10  Credit_History     564 non-null    float64\n",
      " 11  Property_Area      614 non-null    object \n",
      " 12  Loan_Status        614 non-null    object \n",
      "dtypes: float64(4), int64(1), object(8)\n",
      "memory usage: 62.5+ KB\n"
     ]
    }
   ],
   "source": [
    "df.info()"
   ]
  },
  {
   "cell_type": "code",
   "execution_count": 9,
   "id": "c9c777bd",
   "metadata": {
    "execution": {
     "iopub.execute_input": "2021-09-07T11:25:46.997100Z",
     "iopub.status.busy": "2021-09-07T11:25:46.996221Z",
     "iopub.status.idle": "2021-09-07T11:25:47.021236Z",
     "shell.execute_reply": "2021-09-07T11:25:47.021670Z",
     "shell.execute_reply.started": "2021-09-07T11:20:53.688912Z"
    },
    "papermill": {
     "duration": 0.078271,
     "end_time": "2021-09-07T11:25:47.021838",
     "exception": false,
     "start_time": "2021-09-07T11:25:46.943567",
     "status": "completed"
    },
    "tags": []
   },
   "outputs": [
    {
     "data": {
      "text/html": [
       "<div>\n",
       "<style scoped>\n",
       "    .dataframe tbody tr th:only-of-type {\n",
       "        vertical-align: middle;\n",
       "    }\n",
       "\n",
       "    .dataframe tbody tr th {\n",
       "        vertical-align: top;\n",
       "    }\n",
       "\n",
       "    .dataframe thead th {\n",
       "        text-align: right;\n",
       "    }\n",
       "</style>\n",
       "<table border=\"1\" class=\"dataframe\">\n",
       "  <thead>\n",
       "    <tr style=\"text-align: right;\">\n",
       "      <th></th>\n",
       "      <th>ApplicantIncome</th>\n",
       "      <th>CoapplicantIncome</th>\n",
       "      <th>LoanAmount</th>\n",
       "      <th>Loan_Amount_Term</th>\n",
       "      <th>Credit_History</th>\n",
       "    </tr>\n",
       "  </thead>\n",
       "  <tbody>\n",
       "    <tr>\n",
       "      <th>count</th>\n",
       "      <td>614.000000</td>\n",
       "      <td>614.000000</td>\n",
       "      <td>592.000000</td>\n",
       "      <td>600.00000</td>\n",
       "      <td>564.000000</td>\n",
       "    </tr>\n",
       "    <tr>\n",
       "      <th>mean</th>\n",
       "      <td>5403.459283</td>\n",
       "      <td>1621.245798</td>\n",
       "      <td>146.412162</td>\n",
       "      <td>342.00000</td>\n",
       "      <td>0.842199</td>\n",
       "    </tr>\n",
       "    <tr>\n",
       "      <th>std</th>\n",
       "      <td>6109.041673</td>\n",
       "      <td>2926.248369</td>\n",
       "      <td>85.587325</td>\n",
       "      <td>65.12041</td>\n",
       "      <td>0.364878</td>\n",
       "    </tr>\n",
       "    <tr>\n",
       "      <th>min</th>\n",
       "      <td>150.000000</td>\n",
       "      <td>0.000000</td>\n",
       "      <td>9.000000</td>\n",
       "      <td>12.00000</td>\n",
       "      <td>0.000000</td>\n",
       "    </tr>\n",
       "    <tr>\n",
       "      <th>25%</th>\n",
       "      <td>2877.500000</td>\n",
       "      <td>0.000000</td>\n",
       "      <td>100.000000</td>\n",
       "      <td>360.00000</td>\n",
       "      <td>1.000000</td>\n",
       "    </tr>\n",
       "    <tr>\n",
       "      <th>50%</th>\n",
       "      <td>3812.500000</td>\n",
       "      <td>1188.500000</td>\n",
       "      <td>128.000000</td>\n",
       "      <td>360.00000</td>\n",
       "      <td>1.000000</td>\n",
       "    </tr>\n",
       "    <tr>\n",
       "      <th>75%</th>\n",
       "      <td>5795.000000</td>\n",
       "      <td>2297.250000</td>\n",
       "      <td>168.000000</td>\n",
       "      <td>360.00000</td>\n",
       "      <td>1.000000</td>\n",
       "    </tr>\n",
       "    <tr>\n",
       "      <th>max</th>\n",
       "      <td>81000.000000</td>\n",
       "      <td>41667.000000</td>\n",
       "      <td>700.000000</td>\n",
       "      <td>480.00000</td>\n",
       "      <td>1.000000</td>\n",
       "    </tr>\n",
       "  </tbody>\n",
       "</table>\n",
       "</div>"
      ],
      "text/plain": [
       "       ApplicantIncome  CoapplicantIncome  LoanAmount  Loan_Amount_Term  \\\n",
       "count       614.000000         614.000000  592.000000         600.00000   \n",
       "mean       5403.459283        1621.245798  146.412162         342.00000   \n",
       "std        6109.041673        2926.248369   85.587325          65.12041   \n",
       "min         150.000000           0.000000    9.000000          12.00000   \n",
       "25%        2877.500000           0.000000  100.000000         360.00000   \n",
       "50%        3812.500000        1188.500000  128.000000         360.00000   \n",
       "75%        5795.000000        2297.250000  168.000000         360.00000   \n",
       "max       81000.000000       41667.000000  700.000000         480.00000   \n",
       "\n",
       "       Credit_History  \n",
       "count      564.000000  \n",
       "mean         0.842199  \n",
       "std          0.364878  \n",
       "min          0.000000  \n",
       "25%          1.000000  \n",
       "50%          1.000000  \n",
       "75%          1.000000  \n",
       "max          1.000000  "
      ]
     },
     "execution_count": 9,
     "metadata": {},
     "output_type": "execute_result"
    }
   ],
   "source": [
    "df.describe()"
   ]
  },
  {
   "cell_type": "code",
   "execution_count": 10,
   "id": "f3e2de5e",
   "metadata": {
    "execution": {
     "iopub.execute_input": "2021-09-07T11:25:47.224227Z",
     "iopub.status.busy": "2021-09-07T11:25:47.223346Z",
     "iopub.status.idle": "2021-09-07T11:25:47.286766Z",
     "shell.execute_reply": "2021-09-07T11:25:47.286165Z",
     "shell.execute_reply.started": "2021-09-07T11:20:53.722028Z"
    },
    "papermill": {
     "duration": 0.115762,
     "end_time": "2021-09-07T11:25:47.286904",
     "exception": false,
     "start_time": "2021-09-07T11:25:47.171142",
     "status": "completed"
    },
    "tags": []
   },
   "outputs": [
    {
     "data": {
      "text/html": [
       "<div>\n",
       "<style scoped>\n",
       "    .dataframe tbody tr th:only-of-type {\n",
       "        vertical-align: middle;\n",
       "    }\n",
       "\n",
       "    .dataframe tbody tr th {\n",
       "        vertical-align: top;\n",
       "    }\n",
       "\n",
       "    .dataframe thead th {\n",
       "        text-align: right;\n",
       "    }\n",
       "</style>\n",
       "<table border=\"1\" class=\"dataframe\">\n",
       "  <thead>\n",
       "    <tr style=\"text-align: right;\">\n",
       "      <th>Loan_Status</th>\n",
       "      <th>N</th>\n",
       "      <th>Y</th>\n",
       "      <th>All</th>\n",
       "    </tr>\n",
       "    <tr>\n",
       "      <th>Credit_History</th>\n",
       "      <th></th>\n",
       "      <th></th>\n",
       "      <th></th>\n",
       "    </tr>\n",
       "  </thead>\n",
       "  <tbody>\n",
       "    <tr>\n",
       "      <th>0.0</th>\n",
       "      <td>82</td>\n",
       "      <td>7</td>\n",
       "      <td>89</td>\n",
       "    </tr>\n",
       "    <tr>\n",
       "      <th>1.0</th>\n",
       "      <td>97</td>\n",
       "      <td>378</td>\n",
       "      <td>475</td>\n",
       "    </tr>\n",
       "    <tr>\n",
       "      <th>All</th>\n",
       "      <td>179</td>\n",
       "      <td>385</td>\n",
       "      <td>564</td>\n",
       "    </tr>\n",
       "  </tbody>\n",
       "</table>\n",
       "</div>"
      ],
      "text/plain": [
       "Loan_Status       N    Y  All\n",
       "Credit_History               \n",
       "0.0              82    7   89\n",
       "1.0              97  378  475\n",
       "All             179  385  564"
      ]
     },
     "execution_count": 10,
     "metadata": {},
     "output_type": "execute_result"
    }
   ],
   "source": [
    "pd.crosstab(df['Credit_History'],df['Loan_Status'], margins=True)"
   ]
  },
  {
   "cell_type": "code",
   "execution_count": 11,
   "id": "b78835f0",
   "metadata": {
    "execution": {
     "iopub.execute_input": "2021-09-07T11:25:47.619639Z",
     "iopub.status.busy": "2021-09-07T11:25:47.619056Z",
     "iopub.status.idle": "2021-09-07T11:25:47.767964Z",
     "shell.execute_reply": "2021-09-07T11:25:47.767517Z",
     "shell.execute_reply.started": "2021-09-07T11:20:53.782690Z"
    },
    "papermill": {
     "duration": 0.216931,
     "end_time": "2021-09-07T11:25:47.768119",
     "exception": false,
     "start_time": "2021-09-07T11:25:47.551188",
     "status": "completed"
    },
    "tags": []
   },
   "outputs": [
    {
     "data": {
      "text/plain": [
       "<Axes: >"
      ]
     },
     "execution_count": 11,
     "metadata": {},
     "output_type": "execute_result"
    },
    {
     "data": {
      "image/png": "[encoded data removed]",
      "text/plain": [
       "<Figure size 640x480 with 1 Axes>"
      ]
     },
     "metadata": {},
     "output_type": "display_data"
    }
   ],
   "source": [
    "df.boxplot(column='ApplicantIncome')"
   ]
  },
  {
   "cell_type": "markdown",
   "id": "8ab72cad",
   "metadata": {
    "papermill": {
     "duration": 0.050335,
     "end_time": "2021-09-07T11:25:47.870172",
     "exception": false,
     "start_time": "2021-09-07T11:25:47.819837",
     "status": "completed"
    },
    "tags": []
   },
   "source": [
    "lots of outliers "
   ]
  },
  {
   "cell_type": "code",
   "execution_count": 12,
   "id": "4af43923",
   "metadata": {
    "execution": {
     "iopub.execute_input": "2021-09-07T11:25:47.974069Z",
     "iopub.status.busy": "2021-09-07T11:25:47.973463Z",
     "iopub.status.idle": "2021-09-07T11:25:48.164106Z",
     "shell.execute_reply": "2021-09-07T11:25:48.164528Z",
     "shell.execute_reply.started": "2021-09-07T11:20:53.948275Z"
    },
    "papermill": {
     "duration": 0.243842,
     "end_time": "2021-09-07T11:25:48.164700",
     "exception": false,
     "start_time": "2021-09-07T11:25:47.920858",
     "status": "completed"
    },
    "tags": []
   },
   "outputs": [
    {
     "data": {
      "text/plain": [
       "<Axes: >"
      ]
     },
     "execution_count": 12,
     "metadata": {},
     "output_type": "execute_result"
    },
    {
     "data": {
      "image/png": "[encoded data removed]",
      "text/plain": [
       "<Figure size 640x480 with 1 Axes>"
      ]
     },
     "metadata": {},
     "output_type": "display_data"
    }
   ],
   "source": [
    "df['ApplicantIncome'].hist(bins=20)"
   ]
  },
  {
   "cell_type": "code",
   "execution_count": 13,
   "id": "902bfdd6",
   "metadata": {
    "execution": {
     "iopub.execute_input": "2021-09-07T11:25:48.270980Z",
     "iopub.status.busy": "2021-09-07T11:25:48.270396Z",
     "iopub.status.idle": "2021-09-07T11:25:48.425946Z",
     "shell.execute_reply": "2021-09-07T11:25:48.425397Z",
     "shell.execute_reply.started": "2021-09-07T11:20:54.187346Z"
    },
    "papermill": {
     "duration": 0.209331,
     "end_time": "2021-09-07T11:25:48.426119",
     "exception": false,
     "start_time": "2021-09-07T11:25:48.216788",
     "status": "completed"
    },
    "tags": []
   },
   "outputs": [
    {
     "data": {
      "text/plain": [
       "<Axes: >"
      ]
     },
     "execution_count": 13,
     "metadata": {},
     "output_type": "execute_result"
    },
    {
     "data": {
      "image/png": "[encoded data removed]",
      "text/plain": [
       "<Figure size 640x480 with 1 Axes>"
      ]
     },
     "metadata": {},
     "output_type": "display_data"
    }
   ],
   "source": [
    "df['CoapplicantIncome'].hist(bins=20)\n"
   ]
  },
  {
   "cell_type": "markdown",
   "id": "122e80f2",
   "metadata": {
    "papermill": {
     "duration": 0.053737,
     "end_time": "2021-09-07T11:25:48.532644",
     "exception": false,
     "start_time": "2021-09-07T11:25:48.478907",
     "status": "completed"
    },
    "tags": []
   },
   "source": [
    "Relation Applicants Income and their education "
   ]
  },
  {
   "cell_type": "code",
   "execution_count": 14,
   "id": "5b2dc1fe",
   "metadata": {
    "execution": {
     "iopub.execute_input": "2021-09-07T11:25:48.656769Z",
     "iopub.status.busy": "2021-09-07T11:25:48.642231Z",
     "iopub.status.idle": "2021-09-07T11:25:48.810701Z",
     "shell.execute_reply": "2021-09-07T11:25:48.810221Z",
     "shell.execute_reply.started": "2021-09-07T11:20:54.382416Z"
    },
    "papermill": {
     "duration": 0.225632,
     "end_time": "2021-09-07T11:25:48.810847",
     "exception": false,
     "start_time": "2021-09-07T11:25:48.585215",
     "status": "completed"
    },
    "tags": []
   },
   "outputs": [
    {
     "data": {
      "text/plain": [
       "<Axes: title={'center': 'ApplicantIncome'}, xlabel='Education'>"
      ]
     },
     "execution_count": 14,
     "metadata": {},
     "output_type": "execute_result"
    },
    {
     "data": {
      "image/png": "[encoded data removed]",
      "text/plain": [
       "<Figure size 640x480 with 1 Axes>"
      ]
     },
     "metadata": {},
     "output_type": "display_data"
    }
   ],
   "source": [
    "df.boxplot(column='ApplicantIncome', by='Education')"
   ]
  },
  {
   "cell_type": "code",
   "execution_count": 15,
   "id": "0e064977",
   "metadata": {
    "execution": {
     "iopub.execute_input": "2021-09-07T11:25:49.155985Z",
     "iopub.status.busy": "2021-09-07T11:25:49.140667Z",
     "iopub.status.idle": "2021-09-07T11:25:49.264607Z",
     "shell.execute_reply": "2021-09-07T11:25:49.264133Z",
     "shell.execute_reply.started": "2021-09-07T11:20:54.579801Z"
    },
    "papermill": {
     "duration": 0.183822,
     "end_time": "2021-09-07T11:25:49.264735",
     "exception": false,
     "start_time": "2021-09-07T11:25:49.080913",
     "status": "completed"
    },
    "tags": []
   },
   "outputs": [
    {
     "data": {
      "text/plain": [
       "<Axes: >"
      ]
     },
     "execution_count": 15,
     "metadata": {},
     "output_type": "execute_result"
    },
    {
     "data": {
      "image/png": "[encoded data removed]",
      "text/plain": [
       "<Figure size 640x480 with 1 Axes>"
      ]
     },
     "metadata": {},
     "output_type": "display_data"
    }
   ],
   "source": [
    "df.boxplot(column='LoanAmount')"
   ]
  },
  {
   "cell_type": "markdown",
   "id": "b0980eda",
   "metadata": {
    "papermill": {
     "duration": 0.053919,
     "end_time": "2021-09-07T11:25:49.372717",
     "exception": false,
     "start_time": "2021-09-07T11:25:49.318798",
     "status": "completed"
    },
    "tags": []
   },
   "source": [
    "most of our variables have outliers that needs to worked on"
   ]
  },
  {
   "cell_type": "code",
   "execution_count": 16,
   "id": "abf4451a",
   "metadata": {
    "execution": {
     "iopub.execute_input": "2021-09-07T11:25:49.504093Z",
     "iopub.status.busy": "2021-09-07T11:25:49.499354Z",
     "iopub.status.idle": "2021-09-07T11:25:49.674731Z",
     "shell.execute_reply": "2021-09-07T11:25:49.674164Z",
     "shell.execute_reply.started": "2021-09-07T11:20:54.732111Z"
    },
    "papermill": {
     "duration": 0.247969,
     "end_time": "2021-09-07T11:25:49.674865",
     "exception": false,
     "start_time": "2021-09-07T11:25:49.426896",
     "status": "completed"
    },
    "tags": []
   },
   "outputs": [
    {
     "data": {
      "text/plain": [
       "<Axes: >"
      ]
     },
     "execution_count": 16,
     "metadata": {},
     "output_type": "execute_result"
    },
    {
     "data": {
      "image/png": "[encoded data removed]",
      "text/plain": [
       "<Figure size 640x480 with 1 Axes>"
      ]
     },
     "metadata": {},
     "output_type": "display_data"
    }
   ],
   "source": [
    "df['LoanAmount'].hist(bins=20)"
   ]
  },
  {
   "cell_type": "markdown",
   "id": "fc5f448f",
   "metadata": {
    "papermill": {
     "duration": 0.055544,
     "end_time": "2021-09-07T11:25:49.785254",
     "exception": false,
     "start_time": "2021-09-07T11:25:49.729710",
     "status": "completed"
    },
    "tags": []
   },
   "source": [
    "Let's normalize the LoanAmount"
   ]
  },
  {
   "cell_type": "code",
   "execution_count": 17,
   "id": "46bcad47",
   "metadata": {
    "execution": {
     "iopub.execute_input": "2021-09-07T11:25:49.926998Z",
     "iopub.status.busy": "2021-09-07T11:25:49.919001Z",
     "iopub.status.idle": "2021-09-07T11:25:50.071846Z",
     "shell.execute_reply": "2021-09-07T11:25:50.071381Z",
     "shell.execute_reply.started": "2021-09-07T11:20:54.962066Z"
    },
    "papermill": {
     "duration": 0.231947,
     "end_time": "2021-09-07T11:25:50.071990",
     "exception": false,
     "start_time": "2021-09-07T11:25:49.840043",
     "status": "completed"
    },
    "tags": []
   },
   "outputs": [
    {
     "data": {
      "text/plain": [
       "<Axes: >"
      ]
     },
     "execution_count": 17,
     "metadata": {},
     "output_type": "execute_result"
    },
    {
     "data": {
      "image/png": "[encoded data removed]",
      "text/plain": [
       "<Figure size 640x480 with 1 Axes>"
      ]
     },
     "metadata": {},
     "output_type": "display_data"
    }
   ],
   "source": [
    "df['LoanAmount_log']=np.log(df['LoanAmount'])\n",
    "df['LoanAmount_log'].hist(bins=20)"
   ]
  },
  {
   "cell_type": "code",
   "execution_count": 18,
   "id": "c2e2b4df",
   "metadata": {
    "execution": {
     "iopub.execute_input": "2021-09-07T11:25:50.301688Z",
     "iopub.status.busy": "2021-09-07T11:25:50.300849Z",
     "iopub.status.idle": "2021-09-07T11:25:50.306045Z",
     "shell.execute_reply": "2021-09-07T11:25:50.305474Z",
     "shell.execute_reply.started": "2021-09-07T11:20:55.164177Z"
    },
    "papermill": {
     "duration": 0.067606,
     "end_time": "2021-09-07T11:25:50.306176",
     "exception": false,
     "start_time": "2021-09-07T11:25:50.238570",
     "status": "completed"
    },
    "tags": []
   },
   "outputs": [
    {
     "data": {
      "text/plain": [
       "Loan_ID               0\n",
       "Gender               13\n",
       "Married               3\n",
       "Dependents           15\n",
       "Education             0\n",
       "Self_Employed        32\n",
       "ApplicantIncome       0\n",
       "CoapplicantIncome     0\n",
       "LoanAmount           22\n",
       "Loan_Amount_Term     14\n",
       "Credit_History       50\n",
       "Property_Area         0\n",
       "Loan_Status           0\n",
       "LoanAmount_log       22\n",
       "dtype: int64"
      ]
     },
     "execution_count": 18,
     "metadata": {},
     "output_type": "execute_result"
    }
   ],
   "source": [
    "df.isnull().sum()"
   ]
  },
  {
   "cell_type": "code",
   "execution_count": 19,
   "id": "01278316",
   "metadata": {
    "execution": {
     "iopub.execute_input": "2021-09-07T11:25:50.540167Z",
     "iopub.status.busy": "2021-09-07T11:25:50.539247Z",
     "iopub.status.idle": "2021-09-07T11:25:50.541496Z",
     "shell.execute_reply": "2021-09-07T11:25:50.541973Z",
     "shell.execute_reply.started": "2021-09-07T11:20:55.176323Z"
    },
    "papermill": {
     "duration": 0.068473,
     "end_time": "2021-09-07T11:25:50.542182",
     "exception": false,
     "start_time": "2021-09-07T11:25:50.473709",
     "status": "completed"
    },
    "tags": []
   },
   "outputs": [],
   "source": [
    "for col in categorical_columns :\n",
    "    df[col].fillna(df[col].mode()[0],inplace=True)\n",
    "    \n"
   ]
  },
  {
   "cell_type": "code",
   "execution_count": 20,
   "id": "326c628d",
   "metadata": {
    "execution": {
     "iopub.execute_input": "2021-09-07T11:25:50.877151Z",
     "iopub.status.busy": "2021-09-07T11:25:50.876583Z",
     "iopub.status.idle": "2021-09-07T11:25:51.260050Z",
     "shell.execute_reply": "2021-09-07T11:25:51.260523Z",
     "shell.execute_reply.started": "2021-09-07T11:20:55.193988Z"
    },
    "papermill": {
     "duration": 0.441874,
     "end_time": "2021-09-07T11:25:51.260697",
     "exception": false,
     "start_time": "2021-09-07T11:25:50.818823",
     "status": "completed"
    },
    "tags": []
   },
   "outputs": [
    {
     "name": "stdout",
     "output_type": "stream",
     "text": [
      "       ApplicantIncome  CoapplicantIncome  LoanAmount\n",
      "count       614.000000         614.000000  592.000000\n",
      "mean       5403.459283        1621.245798  146.412162\n",
      "std        6109.041673        2926.248369   85.587325\n",
      "min         150.000000           0.000000    9.000000\n",
      "25%        2877.500000           0.000000  100.000000\n",
      "50%        3812.500000        1188.500000  128.000000\n",
      "75%        5795.000000        2297.250000  168.000000\n",
      "max       81000.000000       41667.000000  700.000000\n"
     ]
    },
    {
     "data": {
      "image/png": "[encoded data removed]",
      "text/plain": [
       "<Figure size 1700x500 with 3 Axes>"
      ]
     },
     "metadata": {},
     "output_type": "display_data"
    }
   ],
   "source": [
    "fig,axes = plt.subplots(1,3,figsize=(17,5))\n",
    "for idx,cat_col in enumerate(numerical_columns):\n",
    "    sns.boxplot(y=cat_col,data=df,x='Loan_Status',ax=axes[idx])\n",
    "\n",
    "print(df[numerical_columns].describe())\n",
    "plt.subplots_adjust(hspace=1)"
   ]
  },
  {
   "cell_type": "markdown",
   "id": "661acea6",
   "metadata": {
    "papermill": {
     "duration": 0.057242,
     "end_time": "2021-09-07T11:25:51.375133",
     "exception": false,
     "start_time": "2021-09-07T11:25:51.317891",
     "status": "completed"
    },
    "tags": []
   },
   "source": [
    "Handle the null values by using the mean function "
   ]
  },
  {
   "cell_type": "code",
   "execution_count": 21,
   "id": "3e7deb84",
   "metadata": {
    "execution": {
     "iopub.execute_input": "2021-09-07T11:25:51.492201Z",
     "iopub.status.busy": "2021-09-07T11:25:51.491628Z",
     "iopub.status.idle": "2021-09-07T11:25:51.496374Z",
     "shell.execute_reply": "2021-09-07T11:25:51.496846Z",
     "shell.execute_reply.started": "2021-09-07T11:20:55.657491Z"
    },
    "papermill": {
     "duration": 0.064802,
     "end_time": "2021-09-07T11:25:51.497022",
     "exception": false,
     "start_time": "2021-09-07T11:25:51.432220",
     "status": "completed"
    },
    "tags": []
   },
   "outputs": [],
   "source": [
    "df['LoanAmount']=df['LoanAmount'].fillna(df['LoanAmount'].mean())"
   ]
  },
  {
   "cell_type": "code",
   "execution_count": 22,
   "id": "6907f866",
   "metadata": {
    "execution": {
     "iopub.execute_input": "2021-09-07T11:25:51.615474Z",
     "iopub.status.busy": "2021-09-07T11:25:51.614903Z",
     "iopub.status.idle": "2021-09-07T11:25:51.618915Z",
     "shell.execute_reply": "2021-09-07T11:25:51.619394Z",
     "shell.execute_reply.started": "2021-09-07T11:20:55.665022Z"
    },
    "papermill": {
     "duration": 0.065645,
     "end_time": "2021-09-07T11:25:51.619555",
     "exception": false,
     "start_time": "2021-09-07T11:25:51.553910",
     "status": "completed"
    },
    "tags": []
   },
   "outputs": [],
   "source": [
    "df['LoanAmount_log']=df['LoanAmount_log'].fillna(df['LoanAmount_log'].mean())"
   ]
  },
  {
   "cell_type": "code",
   "execution_count": 23,
   "id": "9a2d9f50",
   "metadata": {
    "execution": {
     "iopub.execute_input": "2021-09-07T11:25:51.736326Z",
     "iopub.status.busy": "2021-09-07T11:25:51.735728Z",
     "iopub.status.idle": "2021-09-07T11:25:51.742764Z",
     "shell.execute_reply": "2021-09-07T11:25:51.743264Z",
     "shell.execute_reply.started": "2021-09-07T11:20:55.677525Z"
    },
    "papermill": {
     "duration": 0.066676,
     "end_time": "2021-09-07T11:25:51.743426",
     "exception": false,
     "start_time": "2021-09-07T11:25:51.676750",
     "status": "completed"
    },
    "tags": []
   },
   "outputs": [
    {
     "data": {
      "text/plain": [
       "Loan_ID              0\n",
       "Gender               0\n",
       "Married              0\n",
       "Dependents           0\n",
       "Education            0\n",
       "Self_Employed        0\n",
       "ApplicantIncome      0\n",
       "CoapplicantIncome    0\n",
       "LoanAmount           0\n",
       "Loan_Amount_Term     0\n",
       "Credit_History       0\n",
       "Property_Area        0\n",
       "Loan_Status          0\n",
       "LoanAmount_log       0\n",
       "dtype: int64"
      ]
     },
     "execution_count": 23,
     "metadata": {},
     "output_type": "execute_result"
    }
   ],
   "source": [
    "df.isnull().sum()"
   ]
  },
  {
   "cell_type": "code",
   "execution_count": 24,
   "id": "4b05a688",
   "metadata": {
    "execution": {
     "iopub.execute_input": "2021-09-07T11:25:51.863219Z",
     "iopub.status.busy": "2021-09-07T11:25:51.862597Z",
     "iopub.status.idle": "2021-09-07T11:25:51.867911Z",
     "shell.execute_reply": "2021-09-07T11:25:51.868385Z",
     "shell.execute_reply.started": "2021-09-07T11:20:55.696695Z"
    },
    "papermill": {
     "duration": 0.066617,
     "end_time": "2021-09-07T11:25:51.868553",
     "exception": false,
     "start_time": "2021-09-07T11:25:51.801936",
     "status": "completed"
    },
    "tags": []
   },
   "outputs": [],
   "source": [
    "df['TotalIncome']=df['ApplicantIncome']+df['CoapplicantIncome']\n",
    "df['TotalIncome_log']=np.log(df['TotalIncome'])"
   ]
  },
  {
   "cell_type": "code",
   "execution_count": 25,
   "id": "28a792cc",
   "metadata": {
    "execution": {
     "iopub.execute_input": "2021-09-07T11:25:51.987469Z",
     "iopub.status.busy": "2021-09-07T11:25:51.986891Z",
     "iopub.status.idle": "2021-09-07T11:25:52.171065Z",
     "shell.execute_reply": "2021-09-07T11:25:52.170594Z",
     "shell.execute_reply.started": "2021-09-07T11:20:55.706576Z"
    },
    "papermill": {
     "duration": 0.24497,
     "end_time": "2021-09-07T11:25:52.171201",
     "exception": false,
     "start_time": "2021-09-07T11:25:51.926231",
     "status": "completed"
    },
    "tags": []
   },
   "outputs": [
    {
     "data": {
      "text/plain": [
       "<Axes: >"
      ]
     },
     "execution_count": 25,
     "metadata": {},
     "output_type": "execute_result"
    },
    {
     "data": {
      "image/png": "[encoded data removed]",
      "text/plain": [
       "<Figure size 640x480 with 1 Axes>"
      ]
     },
     "metadata": {},
     "output_type": "display_data"
    }
   ],
   "source": [
    "df['TotalIncome_log'].hist(bins=20)"
   ]
  },
  {
   "cell_type": "markdown",
   "id": "acbfc261",
   "metadata": {
    "papermill": {
     "duration": 0.058327,
     "end_time": "2021-09-07T11:25:52.289958",
     "exception": false,
     "start_time": "2021-09-07T11:25:52.231631",
     "status": "completed"
    },
    "tags": []
   },
   "source": [
    "Let's see How our dataset looks"
   ]
  },
  {
   "cell_type": "code",
   "execution_count": 26,
   "id": "a3ed47aa",
   "metadata": {
    "execution": {
     "iopub.execute_input": "2021-09-07T11:25:52.426294Z",
     "iopub.status.busy": "2021-09-07T11:25:52.425680Z",
     "iopub.status.idle": "2021-09-07T11:25:52.428326Z",
     "shell.execute_reply": "2021-09-07T11:25:52.428747Z",
     "shell.execute_reply.started": "2021-09-07T11:20:55.938195Z"
    },
    "papermill": {
     "duration": 0.08101,
     "end_time": "2021-09-07T11:25:52.428913",
     "exception": false,
     "start_time": "2021-09-07T11:25:52.347903",
     "status": "completed"
    },
    "tags": []
   },
   "outputs": [
    {
     "data": {
      "text/html": [
       "<div>\n",
       "<style scoped>\n",
       "    .dataframe tbody tr th:only-of-type {\n",
       "        vertical-align: middle;\n",
       "    }\n",
       "\n",
       "    .dataframe tbody tr th {\n",
       "        vertical-align: top;\n",
       "    }\n",
       "\n",
       "    .dataframe thead th {\n",
       "        text-align: right;\n",
       "    }\n",
       "</style>\n",
       "<table border=\"1\" class=\"dataframe\">\n",
       "  <thead>\n",
       "    <tr style=\"text-align: right;\">\n",
       "      <th></th>\n",
       "      <th>Loan_ID</th>\n",
       "      <th>Gender</th>\n",
       "      <th>Married</th>\n",
       "      <th>Dependents</th>\n",
       "      <th>Education</th>\n",
       "      <th>Self_Employed</th>\n",
       "      <th>ApplicantIncome</th>\n",
       "      <th>CoapplicantIncome</th>\n",
       "      <th>LoanAmount</th>\n",
       "      <th>Loan_Amount_Term</th>\n",
       "      <th>Credit_History</th>\n",
       "      <th>Property_Area</th>\n",
       "      <th>Loan_Status</th>\n",
       "      <th>LoanAmount_log</th>\n",
       "      <th>TotalIncome</th>\n",
       "      <th>TotalIncome_log</th>\n",
       "    </tr>\n",
       "  </thead>\n",
       "  <tbody>\n",
       "    <tr>\n",
       "      <th>0</th>\n",
       "      <td>LP001002</td>\n",
       "      <td>Male</td>\n",
       "      <td>No</td>\n",
       "      <td>0</td>\n",
       "      <td>Graduate</td>\n",
       "      <td>No</td>\n",
       "      <td>5849</td>\n",
       "      <td>0.0</td>\n",
       "      <td>146.412162</td>\n",
       "      <td>360.0</td>\n",
       "      <td>1.0</td>\n",
       "      <td>Urban</td>\n",
       "      <td>Y</td>\n",
       "      <td>4.857444</td>\n",
       "      <td>5849.0</td>\n",
       "      <td>8.674026</td>\n",
       "    </tr>\n",
       "    <tr>\n",
       "      <th>1</th>\n",
       "      <td>LP001003</td>\n",
       "      <td>Male</td>\n",
       "      <td>Yes</td>\n",
       "      <td>1</td>\n",
       "      <td>Graduate</td>\n",
       "      <td>No</td>\n",
       "      <td>4583</td>\n",
       "      <td>1508.0</td>\n",
       "      <td>128.000000</td>\n",
       "      <td>360.0</td>\n",
       "      <td>1.0</td>\n",
       "      <td>Rural</td>\n",
       "      <td>N</td>\n",
       "      <td>4.852030</td>\n",
       "      <td>6091.0</td>\n",
       "      <td>8.714568</td>\n",
       "    </tr>\n",
       "    <tr>\n",
       "      <th>2</th>\n",
       "      <td>LP001005</td>\n",
       "      <td>Male</td>\n",
       "      <td>Yes</td>\n",
       "      <td>0</td>\n",
       "      <td>Graduate</td>\n",
       "      <td>Yes</td>\n",
       "      <td>3000</td>\n",
       "      <td>0.0</td>\n",
       "      <td>66.000000</td>\n",
       "      <td>360.0</td>\n",
       "      <td>1.0</td>\n",
       "      <td>Urban</td>\n",
       "      <td>Y</td>\n",
       "      <td>4.189655</td>\n",
       "      <td>3000.0</td>\n",
       "      <td>8.006368</td>\n",
       "    </tr>\n",
       "    <tr>\n",
       "      <th>3</th>\n",
       "      <td>LP001006</td>\n",
       "      <td>Male</td>\n",
       "      <td>Yes</td>\n",
       "      <td>0</td>\n",
       "      <td>Not Graduate</td>\n",
       "      <td>No</td>\n",
       "      <td>2583</td>\n",
       "      <td>2358.0</td>\n",
       "      <td>120.000000</td>\n",
       "      <td>360.0</td>\n",
       "      <td>1.0</td>\n",
       "      <td>Urban</td>\n",
       "      <td>Y</td>\n",
       "      <td>4.787492</td>\n",
       "      <td>4941.0</td>\n",
       "      <td>8.505323</td>\n",
       "    </tr>\n",
       "    <tr>\n",
       "      <th>4</th>\n",
       "      <td>LP001008</td>\n",
       "      <td>Male</td>\n",
       "      <td>No</td>\n",
       "      <td>0</td>\n",
       "      <td>Graduate</td>\n",
       "      <td>No</td>\n",
       "      <td>6000</td>\n",
       "      <td>0.0</td>\n",
       "      <td>141.000000</td>\n",
       "      <td>360.0</td>\n",
       "      <td>1.0</td>\n",
       "      <td>Urban</td>\n",
       "      <td>Y</td>\n",
       "      <td>4.948760</td>\n",
       "      <td>6000.0</td>\n",
       "      <td>8.699515</td>\n",
       "    </tr>\n",
       "  </tbody>\n",
       "</table>\n",
       "</div>"
      ],
      "text/plain": [
       "    Loan_ID Gender Married Dependents     Education Self_Employed  \\\n",
       "0  LP001002   Male      No          0      Graduate            No   \n",
       "1  LP001003   Male     Yes          1      Graduate            No   \n",
       "2  LP001005   Male     Yes          0      Graduate           Yes   \n",
       "3  LP001006   Male     Yes          0  Not Graduate            No   \n",
       "4  LP001008   Male      No          0      Graduate            No   \n",
       "\n",
       "   ApplicantIncome  CoapplicantIncome  LoanAmount  Loan_Amount_Term  \\\n",
       "0             5849                0.0  146.412162             360.0   \n",
       "1             4583             1508.0  128.000000             360.0   \n",
       "2             3000                0.0   66.000000             360.0   \n",
       "3             2583             2358.0  120.000000             360.0   \n",
       "4             6000                0.0  141.000000             360.0   \n",
       "\n",
       "   Credit_History Property_Area Loan_Status  LoanAmount_log  TotalIncome  \\\n",
       "0             1.0         Urban           Y        4.857444       5849.0   \n",
       "1             1.0         Rural           N        4.852030       6091.0   \n",
       "2             1.0         Urban           Y        4.189655       3000.0   \n",
       "3             1.0         Urban           Y        4.787492       4941.0   \n",
       "4             1.0         Urban           Y        4.948760       6000.0   \n",
       "\n",
       "   TotalIncome_log  \n",
       "0         8.674026  \n",
       "1         8.714568  \n",
       "2         8.006368  \n",
       "3         8.505323  \n",
       "4         8.699515  "
      ]
     },
     "execution_count": 26,
     "metadata": {},
     "output_type": "execute_result"
    }
   ],
   "source": [
    "df.head()"
   ]
  },
  {
   "cell_type": "code",
   "execution_count": 27,
   "id": "00dc7903",
   "metadata": {
    "execution": {
     "iopub.execute_input": "2021-09-07T11:25:52.553085Z",
     "iopub.status.busy": "2021-09-07T11:25:52.552511Z",
     "iopub.status.idle": "2021-09-07T11:25:52.554893Z",
     "shell.execute_reply": "2021-09-07T11:25:52.555400Z",
     "shell.execute_reply.started": "2021-09-07T11:20:55.965400Z"
    },
    "papermill": {
     "duration": 0.067895,
     "end_time": "2021-09-07T11:25:52.555568",
     "exception": false,
     "start_time": "2021-09-07T11:25:52.487673",
     "status": "completed"
    },
    "tags": []
   },
   "outputs": [],
   "source": [
    "x=df.iloc[:,np.r_[1:5,9:11,13:15]].values\n",
    "y=df.iloc[:,12].values"
   ]
  },
  {
   "cell_type": "code",
   "execution_count": 28,
   "id": "9a2a5801",
   "metadata": {
    "execution": {
     "iopub.execute_input": "2021-09-07T11:25:52.678187Z",
     "iopub.status.busy": "2021-09-07T11:25:52.677610Z",
     "iopub.status.idle": "2021-09-07T11:25:52.855990Z",
     "shell.execute_reply": "2021-09-07T11:25:52.856562Z",
     "shell.execute_reply.started": "2021-09-07T11:20:55.979700Z"
    },
    "papermill": {
     "duration": 0.241577,
     "end_time": "2021-09-07T11:25:52.856734",
     "exception": false,
     "start_time": "2021-09-07T11:25:52.615157",
     "status": "completed"
    },
    "tags": []
   },
   "outputs": [],
   "source": [
    "from sklearn .model_selection import train_test_split\n",
    "\n",
    "\n",
    "x_train,x_test,y_train,y_test=train_test_split(x,y,test_size=0.2)"
   ]
  },
  {
   "cell_type": "markdown",
   "id": "ef1c7aff",
   "metadata": {
    "papermill": {
     "duration": 0.060471,
     "end_time": "2021-09-07T11:25:52.976709",
     "exception": false,
     "start_time": "2021-09-07T11:25:52.916238",
     "status": "completed"
    },
    "tags": []
   },
   "source": [
    "Converting Categorical variables to numeric format\n"
   ]
  },
  {
   "cell_type": "code",
   "execution_count": 29,
   "id": "89fe2333",
   "metadata": {
    "execution": {
     "iopub.execute_input": "2021-09-07T11:25:53.099911Z",
     "iopub.status.busy": "2021-09-07T11:25:53.099114Z",
     "iopub.status.idle": "2021-09-07T11:25:53.101683Z",
     "shell.execute_reply": "2021-09-07T11:25:53.102111Z",
     "shell.execute_reply.started": "2021-09-07T11:20:55.990903Z"
    },
    "papermill": {
     "duration": 0.066574,
     "end_time": "2021-09-07T11:25:53.102273",
     "exception": false,
     "start_time": "2021-09-07T11:25:53.035699",
     "status": "completed"
    },
    "tags": []
   },
   "outputs": [],
   "source": [
    "from sklearn.preprocessing import LabelEncoder\n",
    "\n",
    "LabelEncoder_X=LabelEncoder()"
   ]
  },
  {
   "cell_type": "code",
   "execution_count": 30,
   "id": "2cfff5d4",
   "metadata": {
    "execution": {
     "iopub.execute_input": "2021-09-07T11:25:53.227098Z",
     "iopub.status.busy": "2021-09-07T11:25:53.226283Z",
     "iopub.status.idle": "2021-09-07T11:25:53.228895Z",
     "shell.execute_reply": "2021-09-07T11:25:53.229309Z",
     "shell.execute_reply.started": "2021-09-07T11:20:56.005962Z"
    },
    "papermill": {
     "duration": 0.068303,
     "end_time": "2021-09-07T11:25:53.229470",
     "exception": false,
     "start_time": "2021-09-07T11:25:53.161167",
     "status": "completed"
    },
    "tags": []
   },
   "outputs": [],
   "source": [
    "for i in range(0,5):\n",
    "    x_train[:,i]=LabelEncoder_X.fit_transform(x_train[:,i])\n",
    "    "
   ]
  },
  {
   "cell_type": "code",
   "execution_count": 31,
   "id": "f9aa7d5e",
   "metadata": {
    "execution": {
     "iopub.execute_input": "2021-09-07T11:25:53.352466Z",
     "iopub.status.busy": "2021-09-07T11:25:53.351692Z",
     "iopub.status.idle": "2021-09-07T11:25:53.354836Z",
     "shell.execute_reply": "2021-09-07T11:25:53.354381Z",
     "shell.execute_reply.started": "2021-09-07T11:20:56.022408Z"
    },
    "papermill": {
     "duration": 0.066604,
     "end_time": "2021-09-07T11:25:53.354964",
     "exception": false,
     "start_time": "2021-09-07T11:25:53.288360",
     "status": "completed"
    },
    "tags": []
   },
   "outputs": [],
   "source": [
    "x_train[:,7]=LabelEncoder_X.fit_transform(x_train[:,7])"
   ]
  },
  {
   "cell_type": "code",
   "execution_count": 32,
   "id": "cc7acbfa",
   "metadata": {
    "execution": {
     "iopub.execute_input": "2021-09-07T11:25:53.477832Z",
     "iopub.status.busy": "2021-09-07T11:25:53.476964Z",
     "iopub.status.idle": "2021-09-07T11:25:53.480967Z",
     "shell.execute_reply": "2021-09-07T11:25:53.480513Z",
     "shell.execute_reply.started": "2021-09-07T11:20:56.038020Z"
    },
    "papermill": {
     "duration": 0.067694,
     "end_time": "2021-09-07T11:25:53.481124",
     "exception": false,
     "start_time": "2021-09-07T11:25:53.413430",
     "status": "completed"
    },
    "tags": []
   },
   "outputs": [
    {
     "data": {
      "text/plain": [
       "array([[0, 0, 0, ..., 1.0, 4.59511985013459, 130],\n",
       "       [1, 1, 1, ..., 1.0, 4.74493212836325, 149],\n",
       "       [1, 1, 1, ..., 1.0, 5.062595033026967, 250],\n",
       "       ...,\n",
       "       [0, 1, 0, ..., 0.0, 4.787491742782046, 266],\n",
       "       [1, 1, 0, ..., 1.0, 4.189654742026425, 32],\n",
       "       [1, 0, 0, ..., 1.0, 4.804021044733257, 113]], dtype=object)"
      ]
     },
     "execution_count": 32,
     "metadata": {},
     "output_type": "execute_result"
    }
   ],
   "source": [
    "x_train"
   ]
  },
  {
   "cell_type": "code",
   "execution_count": 33,
   "id": "de93de73",
   "metadata": {
    "execution": {
     "iopub.execute_input": "2021-09-07T11:25:53.606385Z",
     "iopub.status.busy": "2021-09-07T11:25:53.605814Z",
     "iopub.status.idle": "2021-09-07T11:25:53.608447Z",
     "shell.execute_reply": "2021-09-07T11:25:53.607973Z",
     "shell.execute_reply.started": "2021-09-07T11:20:56.054266Z"
    },
    "papermill": {
     "duration": 0.068116,
     "end_time": "2021-09-07T11:25:53.608570",
     "exception": false,
     "start_time": "2021-09-07T11:25:53.540454",
     "status": "completed"
    },
    "tags": []
   },
   "outputs": [],
   "source": [
    "labelEncoder_Y=LabelEncoder()\n",
    "y_train=labelEncoder_Y.fit_transform(y_train)"
   ]
  },
  {
   "cell_type": "code",
   "execution_count": 34,
   "id": "357a5a3e",
   "metadata": {
    "execution": {
     "iopub.execute_input": "2021-09-07T11:25:53.731193Z",
     "iopub.status.busy": "2021-09-07T11:25:53.728354Z",
     "iopub.status.idle": "2021-09-07T11:25:53.734704Z",
     "shell.execute_reply": "2021-09-07T11:25:53.734171Z",
     "shell.execute_reply.started": "2021-09-07T11:20:56.067528Z"
    },
    "papermill": {
     "duration": 0.06731,
     "end_time": "2021-09-07T11:25:53.734838",
     "exception": false,
     "start_time": "2021-09-07T11:25:53.667528",
     "status": "completed"
    },
    "tags": []
   },
   "outputs": [
    {
     "data": {
      "text/plain": [
       "array([0, 1, 1, 1, 1, 1, 0, 1, 0, 1, 0, 0, 1, 1, 0, 1, 0, 1, 1, 0, 1, 1,\n",
       "       1, 0, 1, 1, 1, 1, 0, 1, 0, 1, 0, 1, 1, 1, 1, 0, 1, 0, 0, 1, 0, 0,\n",
       "       1, 1, 1, 1, 1, 1, 1, 1, 0, 0, 1, 1, 1, 1, 0, 0, 1, 0, 1, 0, 1, 1,\n",
       "       1, 1, 0, 0, 0, 1, 0, 1, 1, 0, 1, 0, 1, 0, 1, 1, 1, 1, 0, 1, 1, 1,\n",
       "       1, 0, 1, 1, 1, 1, 1, 1, 1, 1, 1, 0, 1, 1, 1, 0, 1, 1, 1, 0, 1, 1,\n",
       "       0, 1, 0, 1, 1, 0, 1, 1, 0, 1, 1, 1, 1, 1, 1, 1, 0, 0, 1, 0, 1, 1,\n",
       "       0, 1, 0, 1, 1, 0, 1, 1, 1, 1, 0, 0, 1, 0, 1, 0, 0, 1, 1, 1, 1, 0,\n",
       "       0, 1, 1, 0, 1, 1, 1, 0, 0, 1, 0, 1, 0, 1, 1, 1, 1, 1, 1, 1, 1, 0,\n",
       "       1, 1, 0, 1, 1, 0, 0, 1, 0, 1, 1, 1, 1, 1, 0, 1, 1, 1, 1, 1, 0, 1,\n",
       "       1, 1, 1, 1, 0, 0, 1, 0, 1, 0, 0, 1, 1, 1, 1, 0, 1, 0, 0, 1, 1, 1,\n",
       "       0, 1, 1, 1, 0, 1, 1, 1, 1, 0, 1, 1, 1, 1, 1, 1, 1, 1, 1, 1, 0, 1,\n",
       "       0, 0, 0, 1, 0, 0, 1, 0, 1, 1, 1, 1, 1, 1, 1, 0, 0, 0, 0, 1, 1, 1,\n",
       "       1, 0, 1, 0, 0, 1, 1, 0, 1, 1, 1, 1, 0, 1, 1, 1, 1, 1, 0, 0, 1, 1,\n",
       "       0, 1, 0, 0, 0, 1, 1, 1, 1, 1, 1, 1, 1, 0, 1, 0, 1, 0, 1, 0, 0, 1,\n",
       "       1, 0, 1, 1, 1, 1, 1, 1, 0, 0, 0, 1, 0, 1, 1, 1, 0, 1, 1, 1, 1, 1,\n",
       "       1, 1, 1, 1, 1, 0, 0, 1, 1, 1, 1, 1, 1, 1, 0, 0, 1, 0, 1, 1, 1, 1,\n",
       "       1, 1, 0, 1, 0, 1, 1, 1, 1, 1, 1, 1, 1, 1, 1, 1, 0, 1, 1, 1, 0, 0,\n",
       "       1, 1, 0, 0, 1, 1, 1, 1, 0, 1, 1, 1, 0, 0, 1, 0, 1, 0, 1, 1, 1, 1,\n",
       "       1, 1, 1, 1, 1, 1, 1, 1, 1, 1, 0, 0, 1, 1, 1, 1, 1, 1, 1, 1, 1, 0,\n",
       "       1, 1, 1, 1, 1, 1, 1, 1, 1, 1, 1, 0, 0, 1, 0, 0, 1, 1, 1, 1, 1, 1,\n",
       "       1, 1, 0, 1, 1, 1, 1, 0, 1, 1, 0, 0, 1, 1, 1, 0, 1, 1, 0, 1, 0, 1,\n",
       "       1, 1, 1, 0, 1, 1, 0, 1, 0, 1, 1, 1, 1, 1, 0, 0, 1, 1, 1, 0, 1, 0,\n",
       "       1, 0, 0, 1, 0, 1, 1])"
      ]
     },
     "execution_count": 34,
     "metadata": {},
     "output_type": "execute_result"
    }
   ],
   "source": [
    "y_train"
   ]
  },
  {
   "cell_type": "code",
   "execution_count": 35,
   "id": "fee11544",
   "metadata": {
    "execution": {
     "iopub.execute_input": "2021-09-07T11:25:53.855749Z",
     "iopub.status.busy": "2021-09-07T11:25:53.855175Z",
     "iopub.status.idle": "2021-09-07T11:25:53.859084Z",
     "shell.execute_reply": "2021-09-07T11:25:53.859520Z",
     "shell.execute_reply.started": "2021-09-07T11:20:56.084281Z"
    },
    "papermill": {
     "duration": 0.065843,
     "end_time": "2021-09-07T11:25:53.859672",
     "exception": false,
     "start_time": "2021-09-07T11:25:53.793829",
     "status": "completed"
    },
    "tags": []
   },
   "outputs": [],
   "source": [
    "for i in range(0,5):\n",
    "    x_test[:,i]=LabelEncoder_X.fit_transform(x_test[:,i])\n",
    "    "
   ]
  },
  {
   "cell_type": "code",
   "execution_count": 36,
   "id": "435c328b",
   "metadata": {
    "execution": {
     "iopub.execute_input": "2021-09-07T11:25:53.981118Z",
     "iopub.status.busy": "2021-09-07T11:25:53.980545Z",
     "iopub.status.idle": "2021-09-07T11:25:53.984974Z",
     "shell.execute_reply": "2021-09-07T11:25:53.984542Z",
     "shell.execute_reply.started": "2021-09-07T11:20:56.094906Z"
    },
    "papermill": {
     "duration": 0.066201,
     "end_time": "2021-09-07T11:25:53.985117",
     "exception": false,
     "start_time": "2021-09-07T11:25:53.918916",
     "status": "completed"
    },
    "tags": []
   },
   "outputs": [],
   "source": [
    "x_test[:,7]=LabelEncoder_X.fit_transform(x_test[:,7])"
   ]
  },
  {
   "cell_type": "code",
   "execution_count": 37,
   "id": "bb0d346f",
   "metadata": {
    "execution": {
     "iopub.execute_input": "2021-09-07T11:25:54.107450Z",
     "iopub.status.busy": "2021-09-07T11:25:54.106827Z",
     "iopub.status.idle": "2021-09-07T11:25:54.108611Z",
     "shell.execute_reply": "2021-09-07T11:25:54.108999Z",
     "shell.execute_reply.started": "2021-09-07T11:20:56.110845Z"
    },
    "papermill": {
     "duration": 0.065063,
     "end_time": "2021-09-07T11:25:54.109176",
     "exception": false,
     "start_time": "2021-09-07T11:25:54.044113",
     "status": "completed"
    },
    "tags": []
   },
   "outputs": [],
   "source": [
    "y_test=labelEncoder_Y.fit_transform(y_test)"
   ]
  },
  {
   "cell_type": "code",
   "execution_count": 38,
   "id": "24b31eac",
   "metadata": {
    "execution": {
     "iopub.execute_input": "2021-09-07T11:25:54.351516Z",
     "iopub.status.busy": "2021-09-07T11:25:54.350918Z",
     "iopub.status.idle": "2021-09-07T11:25:54.355650Z",
     "shell.execute_reply": "2021-09-07T11:25:54.356075Z",
     "shell.execute_reply.started": "2021-09-07T11:20:56.124580Z"
    },
    "papermill": {
     "duration": 0.067124,
     "end_time": "2021-09-07T11:25:54.356251",
     "exception": false,
     "start_time": "2021-09-07T11:25:54.289127",
     "status": "completed"
    },
    "tags": []
   },
   "outputs": [],
   "source": [
    "from sklearn.preprocessing import StandardScaler\n",
    "\n",
    "ss=StandardScaler()\n",
    "x_train=ss.fit_transform(x_train)\n",
    "x_test=ss.fit_transform(x_test)"
   ]
  },
  {
   "cell_type": "markdown",
   "id": "366e027d",
   "metadata": {},
   "source": [
    "# Decision Tree Classifier"
   ]
  },
  {
   "cell_type": "code",
   "execution_count": 39,
   "id": "123abe25",
   "metadata": {
    "execution": {
     "iopub.execute_input": "2021-09-07T11:25:54.720269Z",
     "iopub.status.busy": "2021-09-07T11:25:54.719643Z",
     "iopub.status.idle": "2021-09-07T11:25:54.890717Z",
     "shell.execute_reply": "2021-09-07T11:25:54.891158Z",
     "shell.execute_reply.started": "2021-09-07T11:20:56.140455Z"
    },
    "papermill": {
     "duration": 0.235033,
     "end_time": "2021-09-07T11:25:54.891333",
     "exception": false,
     "start_time": "2021-09-07T11:25:54.656300",
     "status": "completed"
    },
    "tags": []
   },
   "outputs": [
    {
     "data": {
      "text/html": [
       "<style>#sk-container-id-1 {color: black;}#sk-container-id-1 pre{padding: 0;}#sk-container-id-1 div.sk-toggleable {background-color: white;}#sk-container-id-1 label.sk-toggleable__label {cursor: pointer;display: block;width: 100%;margin-bottom: 0;padding: 0.3em;box-sizing: border-box;text-align: center;}#sk-container-id-1 label.sk-toggleable__label-arrow:before {content: \"▸\";float: left;margin-right: 0.25em;color: #696969;}#sk-container-id-1 label.sk-toggleable__label-arrow:hover:before {color: black;}#sk-container-id-1 div.sk-estimator:hover label.sk-toggleable__label-arrow:before {color: black;}#sk-container-id-1 div.sk-toggleable__content {max-height: 0;max-width: 0;overflow: hidden;text-align: left;background-color: #f0f8ff;}#sk-container-id-1 div.sk-toggleable__content pre {margin: 0.2em;color: black;border-radius: 0.25em;background-color: #f0f8ff;}#sk-container-id-1 input.sk-toggleable__control:checked~div.sk-toggleable__content {max-height: 200px;max-width: 100%;overflow: auto;}#sk-container-id-1 input.sk-toggleable__control:checked~label.sk-toggleable__label-arrow:before {content: \"▾\";}#sk-container-id-1 div.sk-estimator input.sk-toggleable__control:checked~label.sk-toggleable__label {background-color: #d4ebff;}#sk-container-id-1 div.sk-label input.sk-toggleable__control:checked~label.sk-toggleable__label {background-color: #d4ebff;}#sk-container-id-1 input.sk-hidden--visually {border: 0;clip: rect(1px 1px 1px 1px);clip: rect(1px, 1px, 1px, 1px);height: 1px;margin: -1px;overflow: hidden;padding: 0;position: absolute;width: 1px;}#sk-container-id-1 div.sk-estimator {font-family: monospace;background-color: #f0f8ff;border: 1px dotted black;border-radius: 0.25em;box-sizing: border-box;margin-bottom: 0.5em;}#sk-container-id-1 div.sk-estimator:hover {background-color: #d4ebff;}#sk-container-id-1 div.sk-parallel-item::after {content: \"\";width: 100%;border-bottom: 1px solid gray;flex-grow: 1;}#sk-container-id-1 div.sk-label:hover label.sk-toggleable__label {background-color: #d4ebff;}#sk-container-id-1 div.sk-serial::before {content: \"\";position: absolute;border-left: 1px solid gray;box-sizing: border-box;top: 0;bottom: 0;left: 50%;z-index: 0;}#sk-container-id-1 div.sk-serial {display: flex;flex-direction: column;align-items: center;background-color: white;padding-right: 0.2em;padding-left: 0.2em;position: relative;}#sk-container-id-1 div.sk-item {position: relative;z-index: 1;}#sk-container-id-1 div.sk-parallel {display: flex;align-items: stretch;justify-content: center;background-color: white;position: relative;}#sk-container-id-1 div.sk-item::before, #sk-container-id-1 div.sk-parallel-item::before {content: \"\";position: absolute;border-left: 1px solid gray;box-sizing: border-box;top: 0;bottom: 0;left: 50%;z-index: -1;}#sk-container-id-1 div.sk-parallel-item {display: flex;flex-direction: column;z-index: 1;position: relative;background-color: white;}#sk-container-id-1 div.sk-parallel-item:first-child::after {align-self: flex-end;width: 50%;}#sk-container-id-1 div.sk-parallel-item:last-child::after {align-self: flex-start;width: 50%;}#sk-container-id-1 div.sk-parallel-item:only-child::after {width: 0;}#sk-container-id-1 div.sk-dashed-wrapped {border: 1px dashed gray;margin: 0 0.4em 0.5em 0.4em;box-sizing: border-box;padding-bottom: 0.4em;background-color: white;}#sk-container-id-1 div.sk-label label {font-family: monospace;font-weight: bold;display: inline-block;line-height: 1.2em;}#sk-container-id-1 div.sk-label-container {text-align: center;}#sk-container-id-1 div.sk-container {/* jupyter's `normalize.less` sets `[hidden] { display: none; }` but bootstrap.min.css set `[hidden] { display: none !important; }` so we also need the `!important` here to be able to override the default hidden behavior on the sphinx rendered scikit-learn.org. See: https://github.com/scikit-learn/scikit-learn/issues/21755 */display: inline-block !important;position: relative;}#sk-container-id-1 div.sk-text-repr-fallback {display: none;}</style><div id=\"sk-container-id-1\" class=\"sk-top-container\"><div class=\"sk-text-repr-fallback\"><pre>DecisionTreeClassifier(criterion=&#x27;entropy&#x27;, random_state=0)</pre><b>In a Jupyter environment, please rerun this cell to show the HTML representation or trust the notebook. <br />On GitHub, the HTML representation is unable to render, please try loading this page with nbviewer.org.</b></div><div class=\"sk-container\" hidden><div class=\"sk-item\"><div class=\"sk-estimator sk-toggleable\"><input class=\"sk-toggleable__control sk-hidden--visually\" id=\"sk-estimator-id-1\" type=\"checkbox\" checked><label for=\"sk-estimator-id-1\" class=\"sk-toggleable__label sk-toggleable__label-arrow\">DecisionTreeClassifier</label><div class=\"sk-toggleable__content\"><pre>DecisionTreeClassifier(criterion=&#x27;entropy&#x27;, random_state=0)</pre></div></div></div></div></div>"
      ],
      "text/plain": [
       "DecisionTreeClassifier(criterion='entropy', random_state=0)"
      ]
     },
     "execution_count": 39,
     "metadata": {},
     "output_type": "execute_result"
    }
   ],
   "source": [
    "from sklearn.tree import DecisionTreeClassifier\n",
    "\n",
    "tree_clf=DecisionTreeClassifier(criterion='entropy', random_state=0)\n",
    "tree_clf.fit(x_train,y_train)"
   ]
  },
  {
   "cell_type": "code",
   "execution_count": 40,
   "id": "b9f24a41",
   "metadata": {},
   "outputs": [
    {
     "data": {
      "text/plain": [
       "array([0, 0, 1, 0, 1, 1, 1, 1, 0, 1, 0, 1, 1, 1, 0, 1, 1, 0, 1, 0, 1, 1,\n",
       "       1, 1, 1, 1, 1, 1, 1, 1, 1, 1, 1, 0, 1, 0, 1, 1, 0, 1, 1, 1, 0, 0,\n",
       "       1, 1, 1, 1, 1, 0, 0, 1, 0, 1, 1, 0, 1, 1, 1, 0, 1, 1, 1, 1, 1, 0,\n",
       "       1, 1, 1, 1, 1, 0, 1, 1, 0, 1, 0, 1, 1, 0, 1, 1, 0, 1, 0, 1, 1, 1,\n",
       "       1, 0, 1, 1, 0, 1, 1, 1, 0, 1, 1, 0, 0, 1, 1, 1, 1, 1, 0, 1, 0, 1,\n",
       "       1, 0, 1, 1, 1, 1, 1, 1, 0, 0, 1, 0, 1])"
      ]
     },
     "execution_count": 40,
     "metadata": {},
     "output_type": "execute_result"
    }
   ],
   "source": [
    "y_pred=tree_clf.predict(x_test)\n",
    "y_pred"
   ]
  },
  {
   "cell_type": "code",
   "execution_count": 41,
   "id": "ebdababf",
   "metadata": {
    "execution": {
     "iopub.execute_input": "2021-09-07T11:25:55.640817Z",
     "iopub.status.busy": "2021-09-07T11:25:55.639968Z",
     "iopub.status.idle": "2021-09-07T11:25:55.646557Z",
     "shell.execute_reply": "2021-09-07T11:25:55.645806Z",
     "shell.execute_reply.started": "2021-09-07T11:25:18.770376Z"
    },
    "papermill": {
     "duration": 0.069274,
     "end_time": "2021-09-07T11:25:55.646739",
     "exception": false,
     "start_time": "2021-09-07T11:25:55.577465",
     "status": "completed"
    },
    "tags": []
   },
   "outputs": [
    {
     "name": "stdout",
     "output_type": "stream",
     "text": [
      "The accuracy of Decision Tree Classifier is :  0.6991869918699187\n"
     ]
    }
   ],
   "source": [
    "from sklearn import metrics\n",
    "\n",
    "print(\"The accuracy of Decision Tree Classifier is : \",metrics.accuracy_score(y_pred,y_test))"
   ]
  },
  {
   "cell_type": "markdown",
   "id": "de1f8a9d",
   "metadata": {},
   "source": [
    "# Random Forest Classifier"
   ]
  },
  {
   "cell_type": "code",
   "execution_count": 42,
   "id": "6272fa6f",
   "metadata": {},
   "outputs": [
    {
     "data": {
      "text/html": [
       "<style>#sk-container-id-2 {color: black;}#sk-container-id-2 pre{padding: 0;}#sk-container-id-2 div.sk-toggleable {background-color: white;}#sk-container-id-2 label.sk-toggleable__label {cursor: pointer;display: block;width: 100%;margin-bottom: 0;padding: 0.3em;box-sizing: border-box;text-align: center;}#sk-container-id-2 label.sk-toggleable__label-arrow:before {content: \"▸\";float: left;margin-right: 0.25em;color: #696969;}#sk-container-id-2 label.sk-toggleable__label-arrow:hover:before {color: black;}#sk-container-id-2 div.sk-estimator:hover label.sk-toggleable__label-arrow:before {color: black;}#sk-container-id-2 div.sk-toggleable__content {max-height: 0;max-width: 0;overflow: hidden;text-align: left;background-color: #f0f8ff;}#sk-container-id-2 div.sk-toggleable__content pre {margin: 0.2em;color: black;border-radius: 0.25em;background-color: #f0f8ff;}#sk-container-id-2 input.sk-toggleable__control:checked~div.sk-toggleable__content {max-height: 200px;max-width: 100%;overflow: auto;}#sk-container-id-2 input.sk-toggleable__control:checked~label.sk-toggleable__label-arrow:before {content: \"▾\";}#sk-container-id-2 div.sk-estimator input.sk-toggleable__control:checked~label.sk-toggleable__label {background-color: #d4ebff;}#sk-container-id-2 div.sk-label input.sk-toggleable__control:checked~label.sk-toggleable__label {background-color: #d4ebff;}#sk-container-id-2 input.sk-hidden--visually {border: 0;clip: rect(1px 1px 1px 1px);clip: rect(1px, 1px, 1px, 1px);height: 1px;margin: -1px;overflow: hidden;padding: 0;position: absolute;width: 1px;}#sk-container-id-2 div.sk-estimator {font-family: monospace;background-color: #f0f8ff;border: 1px dotted black;border-radius: 0.25em;box-sizing: border-box;margin-bottom: 0.5em;}#sk-container-id-2 div.sk-estimator:hover {background-color: #d4ebff;}#sk-container-id-2 div.sk-parallel-item::after {content: \"\";width: 100%;border-bottom: 1px solid gray;flex-grow: 1;}#sk-container-id-2 div.sk-label:hover label.sk-toggleable__label {background-color: #d4ebff;}#sk-container-id-2 div.sk-serial::before {content: \"\";position: absolute;border-left: 1px solid gray;box-sizing: border-box;top: 0;bottom: 0;left: 50%;z-index: 0;}#sk-container-id-2 div.sk-serial {display: flex;flex-direction: column;align-items: center;background-color: white;padding-right: 0.2em;padding-left: 0.2em;position: relative;}#sk-container-id-2 div.sk-item {position: relative;z-index: 1;}#sk-container-id-2 div.sk-parallel {display: flex;align-items: stretch;justify-content: center;background-color: white;position: relative;}#sk-container-id-2 div.sk-item::before, #sk-container-id-2 div.sk-parallel-item::before {content: \"\";position: absolute;border-left: 1px solid gray;box-sizing: border-box;top: 0;bottom: 0;left: 50%;z-index: -1;}#sk-container-id-2 div.sk-parallel-item {display: flex;flex-direction: column;z-index: 1;position: relative;background-color: white;}#sk-container-id-2 div.sk-parallel-item:first-child::after {align-self: flex-end;width: 50%;}#sk-container-id-2 div.sk-parallel-item:last-child::after {align-self: flex-start;width: 50%;}#sk-container-id-2 div.sk-parallel-item:only-child::after {width: 0;}#sk-container-id-2 div.sk-dashed-wrapped {border: 1px dashed gray;margin: 0 0.4em 0.5em 0.4em;box-sizing: border-box;padding-bottom: 0.4em;background-color: white;}#sk-container-id-2 div.sk-label label {font-family: monospace;font-weight: bold;display: inline-block;line-height: 1.2em;}#sk-container-id-2 div.sk-label-container {text-align: center;}#sk-container-id-2 div.sk-container {/* jupyter's `normalize.less` sets `[hidden] { display: none; }` but bootstrap.min.css set `[hidden] { display: none !important; }` so we also need the `!important` here to be able to override the default hidden behavior on the sphinx rendered scikit-learn.org. See: https://github.com/scikit-learn/scikit-learn/issues/21755 */display: inline-block !important;position: relative;}#sk-container-id-2 div.sk-text-repr-fallback {display: none;}</style><div id=\"sk-container-id-2\" class=\"sk-top-container\"><div class=\"sk-text-repr-fallback\"><pre>RandomForestClassifier(max_depth=4, random_state=10)</pre><b>In a Jupyter environment, please rerun this cell to show the HTML representation or trust the notebook. <br />On GitHub, the HTML representation is unable to render, please try loading this page with nbviewer.org.</b></div><div class=\"sk-container\" hidden><div class=\"sk-item\"><div class=\"sk-estimator sk-toggleable\"><input class=\"sk-toggleable__control sk-hidden--visually\" id=\"sk-estimator-id-2\" type=\"checkbox\" checked><label for=\"sk-estimator-id-2\" class=\"sk-toggleable__label sk-toggleable__label-arrow\">RandomForestClassifier</label><div class=\"sk-toggleable__content\"><pre>RandomForestClassifier(max_depth=4, random_state=10)</pre></div></div></div></div></div>"
      ],
      "text/plain": [
       "RandomForestClassifier(max_depth=4, random_state=10)"
      ]
     },
     "execution_count": 42,
     "metadata": {},
     "output_type": "execute_result"
    }
   ],
   "source": [
    "from sklearn.ensemble import RandomForestClassifier\n",
    "model = RandomForestClassifier(max_depth=4, random_state = 10)\n",
    "model.fit(x_train, y_train)"
   ]
  },
  {
   "cell_type": "code",
   "execution_count": 43,
   "id": "d123bd7e",
   "metadata": {},
   "outputs": [
    {
     "data": {
      "text/plain": [
       "0.7804878048780488"
      ]
     },
     "execution_count": 43,
     "metadata": {},
     "output_type": "execute_result"
    }
   ],
   "source": [
    "from sklearn.metrics import accuracy_score\n",
    "pred_cv = model.predict(x_test)\n",
    "accuracy_score(y_test,pred_cv)"
   ]
  },
  {
   "cell_type": "code",
   "execution_count": 44,
   "id": "91d3d3f2",
   "metadata": {},
   "outputs": [
    {
     "name": "stdout",
     "output_type": "stream",
     "text": [
      "Accuracy of random forest classifier:  0.824847250509165\n"
     ]
    }
   ],
   "source": [
    "pred_train = model.predict(x_train)\n",
    "print(\"Accuracy of random forest classifier: \",accuracy_score(y_train,pred_train))"
   ]
  },
  {
   "cell_type": "markdown",
   "id": "eaf00771",
   "metadata": {},
   "source": [
    "# Naive Bayes Theorm"
   ]
  },
  {
   "cell_type": "code",
   "execution_count": 45,
   "id": "726c8bc4",
   "metadata": {
    "execution": {
     "iopub.execute_input": "2021-09-07T11:25:55.892805Z",
     "iopub.status.busy": "2021-09-07T11:25:55.892063Z",
     "iopub.status.idle": "2021-09-07T11:25:55.899702Z",
     "shell.execute_reply": "2021-09-07T11:25:55.900212Z",
     "shell.execute_reply.started": "2021-09-07T11:20:56.194676Z"
    },
    "papermill": {
     "duration": 0.072441,
     "end_time": "2021-09-07T11:25:55.900378",
     "exception": false,
     "start_time": "2021-09-07T11:25:55.827937",
     "status": "completed"
    },
    "tags": []
   },
   "outputs": [
    {
     "data": {
      "text/html": [
       "<style>#sk-container-id-3 {color: black;}#sk-container-id-3 pre{padding: 0;}#sk-container-id-3 div.sk-toggleable {background-color: white;}#sk-container-id-3 label.sk-toggleable__label {cursor: pointer;display: block;width: 100%;margin-bottom: 0;padding: 0.3em;box-sizing: border-box;text-align: center;}#sk-container-id-3 label.sk-toggleable__label-arrow:before {content: \"▸\";float: left;margin-right: 0.25em;color: #696969;}#sk-container-id-3 label.sk-toggleable__label-arrow:hover:before {color: black;}#sk-container-id-3 div.sk-estimator:hover label.sk-toggleable__label-arrow:before {color: black;}#sk-container-id-3 div.sk-toggleable__content {max-height: 0;max-width: 0;overflow: hidden;text-align: left;background-color: #f0f8ff;}#sk-container-id-3 div.sk-toggleable__content pre {margin: 0.2em;color: black;border-radius: 0.25em;background-color: #f0f8ff;}#sk-container-id-3 input.sk-toggleable__control:checked~div.sk-toggleable__content {max-height: 200px;max-width: 100%;overflow: auto;}#sk-container-id-3 input.sk-toggleable__control:checked~label.sk-toggleable__label-arrow:before {content: \"▾\";}#sk-container-id-3 div.sk-estimator input.sk-toggleable__control:checked~label.sk-toggleable__label {background-color: #d4ebff;}#sk-container-id-3 div.sk-label input.sk-toggleable__control:checked~label.sk-toggleable__label {background-color: #d4ebff;}#sk-container-id-3 input.sk-hidden--visually {border: 0;clip: rect(1px 1px 1px 1px);clip: rect(1px, 1px, 1px, 1px);height: 1px;margin: -1px;overflow: hidden;padding: 0;position: absolute;width: 1px;}#sk-container-id-3 div.sk-estimator {font-family: monospace;background-color: #f0f8ff;border: 1px dotted black;border-radius: 0.25em;box-sizing: border-box;margin-bottom: 0.5em;}#sk-container-id-3 div.sk-estimator:hover {background-color: #d4ebff;}#sk-container-id-3 div.sk-parallel-item::after {content: \"\";width: 100%;border-bottom: 1px solid gray;flex-grow: 1;}#sk-container-id-3 div.sk-label:hover label.sk-toggleable__label {background-color: #d4ebff;}#sk-container-id-3 div.sk-serial::before {content: \"\";position: absolute;border-left: 1px solid gray;box-sizing: border-box;top: 0;bottom: 0;left: 50%;z-index: 0;}#sk-container-id-3 div.sk-serial {display: flex;flex-direction: column;align-items: center;background-color: white;padding-right: 0.2em;padding-left: 0.2em;position: relative;}#sk-container-id-3 div.sk-item {position: relative;z-index: 1;}#sk-container-id-3 div.sk-parallel {display: flex;align-items: stretch;justify-content: center;background-color: white;position: relative;}#sk-container-id-3 div.sk-item::before, #sk-container-id-3 div.sk-parallel-item::before {content: \"\";position: absolute;border-left: 1px solid gray;box-sizing: border-box;top: 0;bottom: 0;left: 50%;z-index: -1;}#sk-container-id-3 div.sk-parallel-item {display: flex;flex-direction: column;z-index: 1;position: relative;background-color: white;}#sk-container-id-3 div.sk-parallel-item:first-child::after {align-self: flex-end;width: 50%;}#sk-container-id-3 div.sk-parallel-item:last-child::after {align-self: flex-start;width: 50%;}#sk-container-id-3 div.sk-parallel-item:only-child::after {width: 0;}#sk-container-id-3 div.sk-dashed-wrapped {border: 1px dashed gray;margin: 0 0.4em 0.5em 0.4em;box-sizing: border-box;padding-bottom: 0.4em;background-color: white;}#sk-container-id-3 div.sk-label label {font-family: monospace;font-weight: bold;display: inline-block;line-height: 1.2em;}#sk-container-id-3 div.sk-label-container {text-align: center;}#sk-container-id-3 div.sk-container {/* jupyter's `normalize.less` sets `[hidden] { display: none; }` but bootstrap.min.css set `[hidden] { display: none !important; }` so we also need the `!important` here to be able to override the default hidden behavior on the sphinx rendered scikit-learn.org. See: https://github.com/scikit-learn/scikit-learn/issues/21755 */display: inline-block !important;position: relative;}#sk-container-id-3 div.sk-text-repr-fallback {display: none;}</style><div id=\"sk-container-id-3\" class=\"sk-top-container\"><div class=\"sk-text-repr-fallback\"><pre>GaussianNB()</pre><b>In a Jupyter environment, please rerun this cell to show the HTML representation or trust the notebook. <br />On GitHub, the HTML representation is unable to render, please try loading this page with nbviewer.org.</b></div><div class=\"sk-container\" hidden><div class=\"sk-item\"><div class=\"sk-estimator sk-toggleable\"><input class=\"sk-toggleable__control sk-hidden--visually\" id=\"sk-estimator-id-3\" type=\"checkbox\" checked><label for=\"sk-estimator-id-3\" class=\"sk-toggleable__label sk-toggleable__label-arrow\">GaussianNB</label><div class=\"sk-toggleable__content\"><pre>GaussianNB()</pre></div></div></div></div></div>"
      ],
      "text/plain": [
       "GaussianNB()"
      ]
     },
     "execution_count": 45,
     "metadata": {},
     "output_type": "execute_result"
    }
   ],
   "source": [
    "from sklearn.naive_bayes import GaussianNB\n",
    "\n",
    "nbc=GaussianNB()\n",
    "nbc.fit(x_train,y_train)"
   ]
  },
  {
   "cell_type": "code",
   "execution_count": 46,
   "id": "cdd7a80f",
   "metadata": {
    "execution": {
     "iopub.execute_input": "2021-09-07T11:25:56.071124Z",
     "iopub.status.busy": "2021-09-07T11:25:56.070542Z",
     "iopub.status.idle": "2021-09-07T11:25:56.074207Z",
     "shell.execute_reply": "2021-09-07T11:25:56.074652Z",
     "shell.execute_reply.started": "2021-09-07T11:20:56.211540Z"
    },
    "papermill": {
     "duration": 0.068222,
     "end_time": "2021-09-07T11:25:56.074815",
     "exception": false,
     "start_time": "2021-09-07T11:25:56.006593",
     "status": "completed"
    },
    "tags": []
   },
   "outputs": [],
   "source": [
    "y_pred2=nbc.predict(x_train)"
   ]
  },
  {
   "cell_type": "code",
   "execution_count": 47,
   "id": "b425408d",
   "metadata": {},
   "outputs": [
    {
     "name": "stdout",
     "output_type": "stream",
     "text": [
      "Accuracy of Naive Bayes Classifier : 0.8187372708757638\n"
     ]
    }
   ],
   "source": [
    "print('Accuracy of Naive Bayes Classifier :',metrics.accuracy_score(y_pred2,y_train))"
   ]
  },
  {
   "cell_type": "code",
   "execution_count": 48,
   "id": "898721a5",
   "metadata": {},
   "outputs": [],
   "source": [
    "testdata=pd.read_csv('loan-test.csv')"
   ]
  },
  {
   "cell_type": "code",
   "execution_count": 49,
   "id": "8172b899",
   "metadata": {
    "execution": {
     "iopub.execute_input": "2021-09-07T11:25:56.607926Z",
     "iopub.status.busy": "2021-09-07T11:25:56.607087Z",
     "iopub.status.idle": "2021-09-07T11:25:56.620346Z",
     "shell.execute_reply": "2021-09-07T11:25:56.620786Z",
     "shell.execute_reply.started": "2021-09-07T11:20:56.247535Z"
    },
    "papermill": {
     "duration": 0.07759,
     "end_time": "2021-09-07T11:25:56.620955",
     "exception": false,
     "start_time": "2021-09-07T11:25:56.543365",
     "status": "completed"
    },
    "tags": []
   },
   "outputs": [
    {
     "name": "stdout",
     "output_type": "stream",
     "text": [
      "<class 'pandas.core.frame.DataFrame'>\n",
      "RangeIndex: 367 entries, 0 to 366\n",
      "Data columns (total 12 columns):\n",
      " #   Column             Non-Null Count  Dtype  \n",
      "---  ------             --------------  -----  \n",
      " 0   Loan_ID            367 non-null    object \n",
      " 1   Gender             356 non-null    object \n",
      " 2   Married            367 non-null    object \n",
      " 3   Dependents         357 non-null    object \n",
      " 4   Education          367 non-null    object \n",
      " 5   Self_Employed      344 non-null    object \n",
      " 6   ApplicantIncome    367 non-null    int64  \n",
      " 7   CoapplicantIncome  367 non-null    int64  \n",
      " 8   LoanAmount         362 non-null    float64\n",
      " 9   Loan_Amount_Term   361 non-null    float64\n",
      " 10  Credit_History     338 non-null    float64\n",
      " 11  Property_Area      367 non-null    object \n",
      "dtypes: float64(3), int64(2), object(7)\n",
      "memory usage: 34.5+ KB\n"
     ]
    }
   ],
   "source": [
    "testdata.info()"
   ]
  },
  {
   "cell_type": "code",
   "execution_count": 50,
   "id": "b2c4b20b",
   "metadata": {
    "execution": {
     "iopub.execute_input": "2021-09-07T11:25:56.752264Z",
     "iopub.status.busy": "2021-09-07T11:25:56.751365Z",
     "iopub.status.idle": "2021-09-07T11:25:56.754871Z",
     "shell.execute_reply": "2021-09-07T11:25:56.755348Z",
     "shell.execute_reply.started": "2021-09-07T11:20:56.266327Z"
    },
    "papermill": {
     "duration": 0.072737,
     "end_time": "2021-09-07T11:25:56.755518",
     "exception": false,
     "start_time": "2021-09-07T11:25:56.682781",
     "status": "completed"
    },
    "tags": []
   },
   "outputs": [
    {
     "data": {
      "text/plain": [
       "Loan_ID               0\n",
       "Gender               11\n",
       "Married               0\n",
       "Dependents           10\n",
       "Education             0\n",
       "Self_Employed        23\n",
       "ApplicantIncome       0\n",
       "CoapplicantIncome     0\n",
       "LoanAmount            5\n",
       "Loan_Amount_Term      6\n",
       "Credit_History       29\n",
       "Property_Area         0\n",
       "dtype: int64"
      ]
     },
     "execution_count": 50,
     "metadata": {},
     "output_type": "execute_result"
    }
   ],
   "source": [
    "testdata.isnull().sum()"
   ]
  },
  {
   "cell_type": "code",
   "execution_count": 51,
   "id": "c858a441",
   "metadata": {
    "execution": {
     "iopub.execute_input": "2021-09-07T11:25:56.885646Z",
     "iopub.status.busy": "2021-09-07T11:25:56.884689Z",
     "iopub.status.idle": "2021-09-07T11:25:56.894866Z",
     "shell.execute_reply": "2021-09-07T11:25:56.895286Z",
     "shell.execute_reply.started": "2021-09-07T11:20:56.281834Z"
    },
    "papermill": {
     "duration": 0.076578,
     "end_time": "2021-09-07T11:25:56.895453",
     "exception": false,
     "start_time": "2021-09-07T11:25:56.818875",
     "status": "completed"
    },
    "tags": []
   },
   "outputs": [],
   "source": [
    "testdata['Gender'].fillna(testdata['Gender'].mode()[0],inplace=True)\n",
    "testdata['Married'].fillna(testdata['Married'].mode()[0],inplace=True)\n",
    "testdata['Dependents'].fillna(testdata['Dependents'].mode()[0],inplace=True)\n",
    "testdata['Self_Employed'].fillna(testdata['Self_Employed'].mode()[0],inplace=True)\n",
    "testdata['Loan_Amount_Term'].fillna(testdata['Loan_Amount_Term'].mode()[0],inplace=True)\n",
    "testdata['Credit_History'].fillna(testdata['Credit_History'].mode()[0],inplace=True)\n",
    "testdata['LoanAmount']=testdata['LoanAmount'].fillna(testdata['LoanAmount'].mean())"
   ]
  },
  {
   "cell_type": "code",
   "execution_count": 52,
   "id": "3ee9b6d4",
   "metadata": {
    "execution": {
     "iopub.execute_input": "2021-09-07T11:25:57.022758Z",
     "iopub.status.busy": "2021-09-07T11:25:57.021895Z",
     "iopub.status.idle": "2021-09-07T11:25:57.029141Z",
     "shell.execute_reply": "2021-09-07T11:25:57.029586Z",
     "shell.execute_reply.started": "2021-09-07T11:20:56.296012Z"
    },
    "papermill": {
     "duration": 0.072255,
     "end_time": "2021-09-07T11:25:57.029739",
     "exception": false,
     "start_time": "2021-09-07T11:25:56.957484",
     "status": "completed"
    },
    "tags": []
   },
   "outputs": [
    {
     "data": {
      "text/plain": [
       "Loan_ID              0\n",
       "Gender               0\n",
       "Married              0\n",
       "Dependents           0\n",
       "Education            0\n",
       "Self_Employed        0\n",
       "ApplicantIncome      0\n",
       "CoapplicantIncome    0\n",
       "LoanAmount           0\n",
       "Loan_Amount_Term     0\n",
       "Credit_History       0\n",
       "Property_Area        0\n",
       "dtype: int64"
      ]
     },
     "execution_count": 52,
     "metadata": {},
     "output_type": "execute_result"
    }
   ],
   "source": [
    "testdata.isnull().sum()"
   ]
  },
  {
   "cell_type": "code",
   "execution_count": 53,
   "id": "76e07814",
   "metadata": {
    "execution": {
     "iopub.execute_input": "2021-09-07T11:25:57.157273Z",
     "iopub.status.busy": "2021-09-07T11:25:57.156395Z",
     "iopub.status.idle": "2021-09-07T11:25:57.265851Z",
     "shell.execute_reply": "2021-09-07T11:25:57.266303Z",
     "shell.execute_reply.started": "2021-09-07T11:20:56.314014Z"
    },
    "papermill": {
     "duration": 0.174499,
     "end_time": "2021-09-07T11:25:57.266475",
     "exception": false,
     "start_time": "2021-09-07T11:25:57.091976",
     "status": "completed"
    },
    "tags": []
   },
   "outputs": [
    {
     "data": {
      "text/plain": [
       "<Axes: >"
      ]
     },
     "execution_count": 53,
     "metadata": {},
     "output_type": "execute_result"
    },
    {
     "data": {
      "image/png": "[encoded data removed]",
      "text/plain": [
       "<Figure size 640x480 with 1 Axes>"
      ]
     },
     "metadata": {},
     "output_type": "display_data"
    }
   ],
   "source": [
    "testdata.boxplot(column='LoanAmount')"
   ]
  },
  {
   "cell_type": "code",
   "execution_count": 54,
   "id": "53b21c22",
   "metadata": {
    "execution": {
     "iopub.execute_input": "2021-09-07T11:25:57.395033Z",
     "iopub.status.busy": "2021-09-07T11:25:57.394160Z",
     "iopub.status.idle": "2021-09-07T11:25:57.398805Z",
     "shell.execute_reply": "2021-09-07T11:25:57.399262Z",
     "shell.execute_reply.started": "2021-09-07T11:20:56.447362Z"
    },
    "papermill": {
     "duration": 0.070455,
     "end_time": "2021-09-07T11:25:57.399432",
     "exception": false,
     "start_time": "2021-09-07T11:25:57.328977",
     "status": "completed"
    },
    "tags": []
   },
   "outputs": [],
   "source": [
    "testdata['LoanAmount_log']=np.log(testdata['LoanAmount'])"
   ]
  },
  {
   "cell_type": "code",
   "execution_count": 55,
   "id": "f55e76ac",
   "metadata": {
    "execution": {
     "iopub.execute_input": "2021-09-07T11:25:57.530919Z",
     "iopub.status.busy": "2021-09-07T11:25:57.530365Z",
     "iopub.status.idle": "2021-09-07T11:25:57.535600Z",
     "shell.execute_reply": "2021-09-07T11:25:57.536079Z",
     "shell.execute_reply.started": "2021-09-07T11:20:56.454362Z"
    },
    "papermill": {
     "duration": 0.073193,
     "end_time": "2021-09-07T11:25:57.536248",
     "exception": false,
     "start_time": "2021-09-07T11:25:57.463055",
     "status": "completed"
    },
    "tags": []
   },
   "outputs": [],
   "source": [
    "testdata['totalIncome']=testdata['ApplicantIncome']+testdata['CoapplicantIncome']\n",
    "testdata['TotalIncome_log']=np.log(testdata['totalIncome'])"
   ]
  },
  {
   "cell_type": "code",
   "execution_count": 56,
   "id": "b461ba89",
   "metadata": {
    "execution": {
     "iopub.execute_input": "2021-09-07T11:25:57.667931Z",
     "iopub.status.busy": "2021-09-07T11:25:57.667393Z",
     "iopub.status.idle": "2021-09-07T11:25:57.683963Z",
     "shell.execute_reply": "2021-09-07T11:25:57.684411Z",
     "shell.execute_reply.started": "2021-09-07T11:20:56.468711Z"
    },
    "papermill": {
     "duration": 0.083724,
     "end_time": "2021-09-07T11:25:57.684574",
     "exception": false,
     "start_time": "2021-09-07T11:25:57.600850",
     "status": "completed"
    },
    "tags": []
   },
   "outputs": [
    {
     "data": {
      "text/html": [
       "<div>\n",
       "<style scoped>\n",
       "    .dataframe tbody tr th:only-of-type {\n",
       "        vertical-align: middle;\n",
       "    }\n",
       "\n",
       "    .dataframe tbody tr th {\n",
       "        vertical-align: top;\n",
       "    }\n",
       "\n",
       "    .dataframe thead th {\n",
       "        text-align: right;\n",
       "    }\n",
       "</style>\n",
       "<table border=\"1\" class=\"dataframe\">\n",
       "  <thead>\n",
       "    <tr style=\"text-align: right;\">\n",
       "      <th></th>\n",
       "      <th>Loan_ID</th>\n",
       "      <th>Gender</th>\n",
       "      <th>Married</th>\n",
       "      <th>Dependents</th>\n",
       "      <th>Education</th>\n",
       "      <th>Self_Employed</th>\n",
       "      <th>ApplicantIncome</th>\n",
       "      <th>CoapplicantIncome</th>\n",
       "      <th>LoanAmount</th>\n",
       "      <th>Loan_Amount_Term</th>\n",
       "      <th>Credit_History</th>\n",
       "      <th>Property_Area</th>\n",
       "      <th>LoanAmount_log</th>\n",
       "      <th>totalIncome</th>\n",
       "      <th>TotalIncome_log</th>\n",
       "    </tr>\n",
       "  </thead>\n",
       "  <tbody>\n",
       "    <tr>\n",
       "      <th>0</th>\n",
       "      <td>LP001015</td>\n",
       "      <td>Male</td>\n",
       "      <td>Yes</td>\n",
       "      <td>0</td>\n",
       "      <td>Graduate</td>\n",
       "      <td>No</td>\n",
       "      <td>5720</td>\n",
       "      <td>0</td>\n",
       "      <td>110.0</td>\n",
       "      <td>360.0</td>\n",
       "      <td>1.0</td>\n",
       "      <td>Urban</td>\n",
       "      <td>4.700480</td>\n",
       "      <td>5720</td>\n",
       "      <td>8.651724</td>\n",
       "    </tr>\n",
       "    <tr>\n",
       "      <th>1</th>\n",
       "      <td>LP001022</td>\n",
       "      <td>Male</td>\n",
       "      <td>Yes</td>\n",
       "      <td>1</td>\n",
       "      <td>Graduate</td>\n",
       "      <td>No</td>\n",
       "      <td>3076</td>\n",
       "      <td>1500</td>\n",
       "      <td>126.0</td>\n",
       "      <td>360.0</td>\n",
       "      <td>1.0</td>\n",
       "      <td>Urban</td>\n",
       "      <td>4.836282</td>\n",
       "      <td>4576</td>\n",
       "      <td>8.428581</td>\n",
       "    </tr>\n",
       "    <tr>\n",
       "      <th>2</th>\n",
       "      <td>LP001031</td>\n",
       "      <td>Male</td>\n",
       "      <td>Yes</td>\n",
       "      <td>2</td>\n",
       "      <td>Graduate</td>\n",
       "      <td>No</td>\n",
       "      <td>5000</td>\n",
       "      <td>1800</td>\n",
       "      <td>208.0</td>\n",
       "      <td>360.0</td>\n",
       "      <td>1.0</td>\n",
       "      <td>Urban</td>\n",
       "      <td>5.337538</td>\n",
       "      <td>6800</td>\n",
       "      <td>8.824678</td>\n",
       "    </tr>\n",
       "    <tr>\n",
       "      <th>3</th>\n",
       "      <td>LP001035</td>\n",
       "      <td>Male</td>\n",
       "      <td>Yes</td>\n",
       "      <td>2</td>\n",
       "      <td>Graduate</td>\n",
       "      <td>No</td>\n",
       "      <td>2340</td>\n",
       "      <td>2546</td>\n",
       "      <td>100.0</td>\n",
       "      <td>360.0</td>\n",
       "      <td>1.0</td>\n",
       "      <td>Urban</td>\n",
       "      <td>4.605170</td>\n",
       "      <td>4886</td>\n",
       "      <td>8.494129</td>\n",
       "    </tr>\n",
       "    <tr>\n",
       "      <th>4</th>\n",
       "      <td>LP001051</td>\n",
       "      <td>Male</td>\n",
       "      <td>No</td>\n",
       "      <td>0</td>\n",
       "      <td>Not Graduate</td>\n",
       "      <td>No</td>\n",
       "      <td>3276</td>\n",
       "      <td>0</td>\n",
       "      <td>78.0</td>\n",
       "      <td>360.0</td>\n",
       "      <td>1.0</td>\n",
       "      <td>Urban</td>\n",
       "      <td>4.356709</td>\n",
       "      <td>3276</td>\n",
       "      <td>8.094378</td>\n",
       "    </tr>\n",
       "  </tbody>\n",
       "</table>\n",
       "</div>"
      ],
      "text/plain": [
       "    Loan_ID Gender Married Dependents     Education Self_Employed  \\\n",
       "0  LP001015   Male     Yes          0      Graduate            No   \n",
       "1  LP001022   Male     Yes          1      Graduate            No   \n",
       "2  LP001031   Male     Yes          2      Graduate            No   \n",
       "3  LP001035   Male     Yes          2      Graduate            No   \n",
       "4  LP001051   Male      No          0  Not Graduate            No   \n",
       "\n",
       "   ApplicantIncome  CoapplicantIncome  LoanAmount  Loan_Amount_Term  \\\n",
       "0             5720                  0       110.0             360.0   \n",
       "1             3076               1500       126.0             360.0   \n",
       "2             5000               1800       208.0             360.0   \n",
       "3             2340               2546       100.0             360.0   \n",
       "4             3276                  0        78.0             360.0   \n",
       "\n",
       "   Credit_History Property_Area  LoanAmount_log  totalIncome  TotalIncome_log  \n",
       "0             1.0         Urban        4.700480         5720         8.651724  \n",
       "1             1.0         Urban        4.836282         4576         8.428581  \n",
       "2             1.0         Urban        5.337538         6800         8.824678  \n",
       "3             1.0         Urban        4.605170         4886         8.494129  \n",
       "4             1.0         Urban        4.356709         3276         8.094378  "
      ]
     },
     "execution_count": 56,
     "metadata": {},
     "output_type": "execute_result"
    }
   ],
   "source": [
    "testdata.head()"
   ]
  },
  {
   "cell_type": "markdown",
   "id": "b3efdad2",
   "metadata": {
    "papermill": {
     "duration": 0.064317,
     "end_time": "2021-09-07T11:25:57.812435",
     "exception": false,
     "start_time": "2021-09-07T11:25:57.748118",
     "status": "completed"
    },
    "tags": []
   },
   "source": [
    "Select the data that we need into variables "
   ]
  },
  {
   "cell_type": "code",
   "execution_count": 57,
   "id": "94af21d1",
   "metadata": {
    "execution": {
     "iopub.execute_input": "2021-09-07T11:25:57.968810Z",
     "iopub.status.busy": "2021-09-07T11:25:57.968200Z",
     "iopub.status.idle": "2021-09-07T11:25:57.974914Z",
     "shell.execute_reply": "2021-09-07T11:25:57.975481Z",
     "shell.execute_reply.started": "2021-09-07T11:20:56.500841Z"
    },
    "papermill": {
     "duration": 0.091693,
     "end_time": "2021-09-07T11:25:57.975636",
     "exception": false,
     "start_time": "2021-09-07T11:25:57.883943",
     "status": "completed"
    },
    "tags": []
   },
   "outputs": [],
   "source": [
    "test=testdata.iloc[:,np.r_[1:5,9:11,13:15]].values"
   ]
  },
  {
   "cell_type": "code",
   "execution_count": 58,
   "id": "64589cda",
   "metadata": {
    "execution": {
     "iopub.execute_input": "2021-09-07T11:25:58.118974Z",
     "iopub.status.busy": "2021-09-07T11:25:58.118108Z",
     "iopub.status.idle": "2021-09-07T11:25:58.120997Z",
     "shell.execute_reply": "2021-09-07T11:25:58.121708Z",
     "shell.execute_reply.started": "2021-09-07T11:20:56.515911Z"
    },
    "papermill": {
     "duration": 0.071415,
     "end_time": "2021-09-07T11:25:58.121917",
     "exception": false,
     "start_time": "2021-09-07T11:25:58.050502",
     "status": "completed"
    },
    "tags": []
   },
   "outputs": [],
   "source": [
    "for i in range(0,5):\n",
    "    test[:,i]=LabelEncoder_X.fit_transform(test[:,i])"
   ]
  },
  {
   "cell_type": "code",
   "execution_count": 59,
   "id": "abeab84c",
   "metadata": {
    "execution": {
     "iopub.execute_input": "2021-09-07T11:25:58.274127Z",
     "iopub.status.busy": "2021-09-07T11:25:58.273466Z",
     "iopub.status.idle": "2021-09-07T11:25:58.279332Z",
     "shell.execute_reply": "2021-09-07T11:25:58.278830Z",
     "shell.execute_reply.started": "2021-09-07T11:20:56.529000Z"
    },
    "papermill": {
     "duration": 0.0733,
     "end_time": "2021-09-07T11:25:58.279473",
     "exception": false,
     "start_time": "2021-09-07T11:25:58.206173",
     "status": "completed"
    },
    "tags": []
   },
   "outputs": [],
   "source": [
    "test[:,7]=LabelEncoder_X.fit_transform(test[:,7])"
   ]
  },
  {
   "cell_type": "code",
   "execution_count": 60,
   "id": "52dc55af",
   "metadata": {
    "execution": {
     "iopub.execute_input": "2021-09-07T11:25:58.413259Z",
     "iopub.status.busy": "2021-09-07T11:25:58.412412Z",
     "iopub.status.idle": "2021-09-07T11:25:58.415700Z",
     "shell.execute_reply": "2021-09-07T11:25:58.416150Z",
     "shell.execute_reply.started": "2021-09-07T11:20:56.540536Z"
    },
    "papermill": {
     "duration": 0.072802,
     "end_time": "2021-09-07T11:25:58.416309",
     "exception": false,
     "start_time": "2021-09-07T11:25:58.343507",
     "status": "completed"
    },
    "tags": []
   },
   "outputs": [
    {
     "data": {
      "text/plain": [
       "array([[1, 1, 0, ..., 1.0, 5720, 207],\n",
       "       [1, 1, 1, ..., 1.0, 4576, 124],\n",
       "       [1, 1, 2, ..., 1.0, 6800, 251],\n",
       "       ...,\n",
       "       [1, 0, 0, ..., 1.0, 5243, 174],\n",
       "       [1, 1, 0, ..., 1.0, 7393, 268],\n",
       "       [1, 0, 0, ..., 1.0, 9200, 311]], dtype=object)"
      ]
     },
     "execution_count": 60,
     "metadata": {},
     "output_type": "execute_result"
    }
   ],
   "source": [
    "test"
   ]
  },
  {
   "cell_type": "markdown",
   "id": "58fad487",
   "metadata": {
    "papermill": {
     "duration": 0.088375,
     "end_time": "2021-09-07T11:25:58.567646",
     "exception": false,
     "start_time": "2021-09-07T11:25:58.479271",
     "status": "completed"
    },
    "tags": []
   },
   "source": [
    "all the textual format is converted to numerical format.\n",
    "Now, let's scale our data "
   ]
  },
  {
   "cell_type": "code",
   "execution_count": 61,
   "id": "a9e72c6f",
   "metadata": {
    "execution": {
     "iopub.execute_input": "2021-09-07T11:25:58.720806Z",
     "iopub.status.busy": "2021-09-07T11:25:58.719949Z",
     "iopub.status.idle": "2021-09-07T11:25:58.724521Z",
     "shell.execute_reply": "2021-09-07T11:25:58.724960Z",
     "shell.execute_reply.started": "2021-09-07T11:20:56.558319Z"
    },
    "papermill": {
     "duration": 0.077289,
     "end_time": "2021-09-07T11:25:58.725159",
     "exception": false,
     "start_time": "2021-09-07T11:25:58.647870",
     "status": "completed"
    },
    "tags": []
   },
   "outputs": [],
   "source": [
    "test=ss.fit_transform(test)"
   ]
  },
  {
   "cell_type": "code",
   "execution_count": 62,
   "id": "25fc1e52",
   "metadata": {
    "execution": {
     "iopub.execute_input": "2021-09-07T11:25:58.856703Z",
     "iopub.status.busy": "2021-09-07T11:25:58.855844Z",
     "iopub.status.idle": "2021-09-07T11:25:58.859818Z",
     "shell.execute_reply": "2021-09-07T11:25:58.860274Z",
     "shell.execute_reply.started": "2021-09-07T11:20:56.570547Z"
    },
    "papermill": {
     "duration": 0.071739,
     "end_time": "2021-09-07T11:25:58.860430",
     "exception": false,
     "start_time": "2021-09-07T11:25:58.788691",
     "status": "completed"
    },
    "tags": []
   },
   "outputs": [],
   "source": [
    "pred=nbc.predict(test)"
   ]
  },
  {
   "cell_type": "code",
   "execution_count": 63,
   "id": "8a4418e8",
   "metadata": {
    "execution": {
     "iopub.execute_input": "2021-09-07T11:25:58.993520Z",
     "iopub.status.busy": "2021-09-07T11:25:58.992701Z",
     "iopub.status.idle": "2021-09-07T11:25:58.995985Z",
     "shell.execute_reply": "2021-09-07T11:25:58.996425Z",
     "shell.execute_reply.started": "2021-09-07T11:20:56.584258Z"
    },
    "papermill": {
     "duration": 0.072792,
     "end_time": "2021-09-07T11:25:58.996573",
     "exception": false,
     "start_time": "2021-09-07T11:25:58.923781",
     "status": "completed"
    },
    "tags": []
   },
   "outputs": [
    {
     "data": {
      "text/plain": [
       "array([1, 1, 1, 1, 1, 1, 1, 0, 1, 1, 1, 1, 1, 0, 1, 1, 1, 1, 1, 1, 1, 1,\n",
       "       1, 1, 1, 0, 1, 1, 1, 1, 1, 1, 1, 1, 1, 0, 1, 1, 1, 1, 1, 1, 1, 1,\n",
       "       1, 1, 1, 1, 1, 1, 1, 1, 1, 1, 1, 0, 1, 1, 0, 1, 1, 1, 1, 0, 1, 1,\n",
       "       0, 0, 1, 0, 1, 1, 1, 1, 1, 1, 1, 1, 1, 1, 0, 0, 0, 1, 0, 1, 1, 1,\n",
       "       1, 1, 1, 1, 1, 1, 0, 1, 1, 1, 1, 1, 1, 0, 1, 1, 1, 1, 0, 1, 1, 1,\n",
       "       1, 1, 1, 1, 1, 1, 1, 0, 0, 0, 1, 1, 1, 0, 0, 1, 0, 1, 1, 1, 1, 1,\n",
       "       1, 1, 1, 1, 1, 1, 1, 1, 0, 1, 0, 0, 1, 1, 1, 0, 1, 1, 1, 1, 1, 0,\n",
       "       1, 1, 1, 1, 1, 1, 1, 0, 1, 1, 1, 0, 0, 1, 0, 1, 1, 1, 1, 0, 0, 1,\n",
       "       1, 1, 1, 1, 1, 1, 1, 1, 1, 1, 1, 1, 1, 1, 1, 1, 0, 0, 1, 1, 0, 1,\n",
       "       0, 1, 1, 1, 1, 1, 1, 1, 1, 1, 1, 1, 1, 0, 1, 1, 1, 1, 1, 1, 1, 1,\n",
       "       1, 1, 1, 1, 0, 1, 1, 1, 1, 0, 0, 1, 1, 1, 1, 0, 0, 1, 1, 1, 1, 0,\n",
       "       1, 0, 1, 0, 1, 1, 1, 1, 0, 1, 1, 1, 1, 0, 1, 1, 1, 1, 1, 1, 1, 1,\n",
       "       1, 1, 0, 1, 0, 1, 1, 1, 1, 0, 0, 1, 1, 1, 0, 0, 1, 1, 1, 1, 1, 1,\n",
       "       1, 1, 1, 1, 1, 1, 1, 0, 1, 1, 1, 1, 1, 1, 1, 0, 1, 1, 1, 1, 1, 1,\n",
       "       1, 1, 1, 0, 1, 1, 1, 1, 1, 0, 1, 1, 1, 1, 1, 1, 1, 0, 1, 1, 1, 1,\n",
       "       1, 1, 1, 1, 1, 1, 1, 1, 1, 0, 1, 1, 1, 1, 1, 1, 0, 1, 1, 1, 1, 1,\n",
       "       1, 1, 0, 1, 1, 1, 1, 1, 1, 1, 1, 1, 1, 1, 1])"
      ]
     },
     "execution_count": 63,
     "metadata": {},
     "output_type": "execute_result"
    }
   ],
   "source": [
    "pred"
   ]
  },
  {
   "cell_type": "markdown",
   "id": "b66e1fd2",
   "metadata": {
    "papermill": {
     "duration": 0.063855,
     "end_time": "2021-09-07T11:25:59.126536",
     "exception": false,
     "start_time": "2021-09-07T11:25:59.062681",
     "status": "completed"
    },
    "tags": []
   },
   "source": []
  },
  {
   "cell_type": "code",
   "execution_count": 64,
   "id": "ea7eaeee",
   "metadata": {},
   "outputs": [],
   "source": [
    "#1 means yes which means the customer is eligible for loan else he is not eligible for loan."
   ]
  },
  {
   "cell_type": "code",
   "execution_count": null,
   "id": "5b5b3aa8",
   "metadata": {},
   "outputs": [],
   "source": []
  }
 ],
 "metadata": {
  "kernelspec": {
   "display_name": "Python 3 (ipykernel)",
   "language": "python",
   "name": "python3"
  },
  "language_info": {
   "codemirror_mode": {
    "name": "ipython",
    "version": 3
   },
   "file_extension": ".py",
   "mimetype": "text/x-python",
   "name": "python",
   "nbconvert_exporter": "python",
   "pygments_lexer": "ipython3",
   "version": "3.11.5"
  },
  "papermill": {
   "default_parameters": {},
   "duration": 23.479713,
   "end_time": "2021-09-07T11:25:59.898659",
   "environment_variables": {},
   "exception": null,
   "input_path": "__notebook__.ipynb",
   "output_path": "__notebook__.ipynb",
   "parameters": {},
   "start_time": "2021-09-07T11:25:36.418946",
   "version": "2.3.3"
  }
 },
 "nbformat": 4,
 "nbformat_minor": 5
}
